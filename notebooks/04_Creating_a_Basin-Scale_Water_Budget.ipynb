{
 "cells": [
  {
   "cell_type": "markdown",
   "id": "f72887a5-e703-4b09-aebd-80e1af46fe41",
   "metadata": {},
   "source": [
    "# M3.4 - Creating a Basin-Scale Water Budget\n",
    "\n",
    "*Part of:* [**Open Science for Water Resources**](https://github.com/OpenClimateScience/M3-Open-Science-for-Water-Resources)"
   ]
  },
  {
   "cell_type": "code",
   "execution_count": null,
   "id": "7ecd1732-3f0f-4a7d-96bd-c72c248ceacb",
   "metadata": {},
   "outputs": [],
   "source": [
    "import glob\n",
    "import datetime\n",
    "import earthaccess\n",
    "import numpy as np\n",
    "import h5py\n",
    "import xarray as xr\n",
    "import rasterio as rio\n",
    "from matplotlib import pyplot\n",
    "\n",
    "auth = earthaccess.login()"
   ]
  },
  {
   "cell_type": "markdown",
   "id": "ae08b036-a6a1-44f6-9c41-99f3be730ad3",
   "metadata": {},
   "source": [
    "$$\n",
    "P = E + R + \\Delta S\n",
    "$$\n",
    "\n",
    "![](./assets/water_budget.png)\n",
    "\n",
    "[*Image courtesy of the USGS*](https://www.usgs.gov/media/images/components-a-simple-water-budget-part-a-watershed)"
   ]
  },
  {
   "cell_type": "markdown",
   "id": "2101c193-83dd-49ad-bed3-efcfde530ada",
   "metadata": {},
   "source": [
    "--- \n",
    "\n",
    "## Estimating evapotranspiration for our basin"
   ]
  },
  {
   "cell_type": "code",
   "execution_count": null,
   "id": "4c7258b5-a3b6-4c86-a25e-aab34abb703c",
   "metadata": {},
   "outputs": [],
   "source": [
    "import geopandas\n",
    "\n",
    "basin = geopandas.read_file('/home/arthur.endsley/Workspace/NTSG/projects/Y2024_TOPS_Training/data/YellowstoneRiver_drainage_WSG84.shp')"
   ]
  },
  {
   "cell_type": "code",
   "execution_count": null,
   "id": "6680e577-350c-497d-9a51-658af2846041",
   "metadata": {},
   "outputs": [],
   "source": [
    "basin.bounds.to_numpy().ravel()"
   ]
  },
  {
   "cell_type": "code",
   "execution_count": null,
   "id": "6490d243-151a-46b8-aed1-2b0477ef42cf",
   "metadata": {},
   "outputs": [],
   "source": [
    "tuple(basin.bounds.to_numpy().ravel())"
   ]
  },
  {
   "cell_type": "code",
   "execution_count": null,
   "id": "d885009d-4716-4c4d-a53d-66a1f021b7c1",
   "metadata": {},
   "outputs": [],
   "source": [
    "# https://dx.doi.org/10.5067/MODIS/MOD16A3GF.061\n",
    "\n",
    "results = earthaccess.search_data(\n",
    "    short_name = 'MOD16A3GF',\n",
    "    temporal = ('2014-01-01', '2023-12-31'),\n",
    "    bounding_box = tuple(basin.bounds.to_numpy().ravel()))"
   ]
  },
  {
   "cell_type": "code",
   "execution_count": null,
   "id": "4f70854b-5d9a-4356-a6f7-4eac358c780a",
   "metadata": {},
   "outputs": [],
   "source": [
    "results_clean = list(filter(lambda granule: 'h10v04' in granule['meta']['native-id'], results))"
   ]
  },
  {
   "cell_type": "code",
   "execution_count": null,
   "id": "0bfd242a-e477-484a-92e2-7f4caca54354",
   "metadata": {},
   "outputs": [],
   "source": [
    "earthaccess.download(results_clean, 'data/MOD16A3')"
   ]
  },
  {
   "cell_type": "markdown",
   "id": "4ef62d62-ac1c-4e2c-bba3-e4268f5109f4",
   "metadata": {},
   "source": [
    "### Installing a new Python package"
   ]
  },
  {
   "cell_type": "code",
   "execution_count": null,
   "id": "d626a2be-db8d-42e0-9734-d74e7fa5c42d",
   "metadata": {},
   "outputs": [],
   "source": [
    "!pip install --upgrade py4eos"
   ]
  },
  {
   "cell_type": "code",
   "execution_count": null,
   "id": "0fc32810-2d48-41bb-affd-f49006c8c834",
   "metadata": {},
   "outputs": [],
   "source": [
    "import py4eos\n",
    "\n",
    "hdf = py4eos.read_hdf4eos('data/MOD16A3/MOD16A3GF.A2014001.h10v04.061.2022077145846.hdf')\n",
    "hdf"
   ]
  },
  {
   "cell_type": "code",
   "execution_count": null,
   "id": "b2f0dc5c-ae52-41f5-88a2-0c8729b70ee4",
   "metadata": {},
   "outputs": [],
   "source": [
    "et = hdf.get('ET_500m')\n",
    "et"
   ]
  },
  {
   "cell_type": "code",
   "execution_count": null,
   "id": "5510a698-5f75-47b3-b5ed-0ac6bbe48af3",
   "metadata": {},
   "outputs": [],
   "source": [
    "et = hdf.get('ET_500m', scale_and_offset = True)\n",
    "et"
   ]
  },
  {
   "cell_type": "code",
   "execution_count": null,
   "id": "4192d791-eee4-4b17-8892-5afac1d618a5",
   "metadata": {},
   "outputs": [],
   "source": [
    "ds_et = hdf.to_rasterio('ET_500m', filename = '', driver = 'MEM', scale_and_offset = True)\n",
    "ds_et"
   ]
  },
  {
   "cell_type": "markdown",
   "id": "cd47a911-ed1b-493e-9dcd-7669ee3952c0",
   "metadata": {},
   "source": [
    "### Compiling an ET time series for our basin"
   ]
  },
  {
   "cell_type": "code",
   "execution_count": null,
   "id": "a713dbdb-fac4-47d1-8812-144b98b45c63",
   "metadata": {},
   "outputs": [],
   "source": [
    "basin_albers = basin.to_crs(epsg = 5070)\n",
    "basin_albers"
   ]
  },
  {
   "cell_type": "code",
   "execution_count": null,
   "id": "3bf1e81b-3729-4d46-b2b9-378b248eb20c",
   "metadata": {},
   "outputs": [],
   "source": [
    "file_list = glob.glob('data/MOD16A3/*.hdf')\n",
    "file_list"
   ]
  },
  {
   "cell_type": "code",
   "execution_count": null,
   "id": "786688ce-8710-4331-84d3-b6a510e2addb",
   "metadata": {},
   "outputs": [],
   "source": [
    "gtiff_file_list = []\n",
    "\n",
    "for filename in file_list:\n",
    "    # Extract the year from the filename\n",
    "    year = filename.split('.')[1].replace('A', '').replace('001', '')\n",
    "    \n",
    "    # Read in the MODIS MOD16 data\n",
    "    hdf = py4eos.read_hdf4eos(filename)\n",
    "    \n",
    "    # Create a rasterio Dataset for this raster; also write out a GeoTIFF file\n",
    "    output_filename = f'processed/MOD16A3GF_{year}_ET_500m.tiff'\n",
    "    ds_et = hdf.to_rasterio(\n",
    "        'ET_500m', filename = output_filename, scale_and_offset = True)\n",
    "    ds_et.close()\n",
    "    \n",
    "    # Save the output GeoTIFF filename\n",
    "    gtiff_file_list.append(output_filename)"
   ]
  },
  {
   "cell_type": "code",
   "execution_count": null,
   "id": "35097f95-3703-4cb4-bd2c-1f51b27d035d",
   "metadata": {},
   "outputs": [],
   "source": [
    "gtiff_file_list.sort()\n",
    "gtiff_file_list"
   ]
  },
  {
   "cell_type": "code",
   "execution_count": null,
   "id": "98467ee7-4e9b-4b30-b2c3-ada0f6f34b50",
   "metadata": {},
   "outputs": [],
   "source": [
    "import rioxarray\n",
    "\n",
    "ds_et = rioxarray.open_rasterio(gtiff_file_list[0])\n",
    "ds_et_albers = ds_et.rio.reproject(basin_albers.crs)\n",
    "ds_et_albers.rio.clip(basin_albers.geometry.values).plot()"
   ]
  },
  {
   "cell_type": "code",
   "execution_count": null,
   "id": "19c306ed-e1bf-456d-b727-be26aa7d3a3f",
   "metadata": {},
   "outputs": [],
   "source": [
    "et_series = []\n",
    "\n",
    "for filename in gtiff_file_list:\n",
    "    ds_et = rioxarray.open_rasterio(filename)\n",
    "    ds_et_albers = ds_et.rio.reproject(basin_albers.crs)\n",
    "    ds_et_basin = ds_et_albers.rio.clip(basin_albers.geometry.values)\n",
    "    # Again, we take the mean because it is equivalent to spatially\n",
    "    #    distributing the columns of water in each pixel\n",
    "    et_series.append(float(ds_et_basin.mean().values))\n",
    "\n",
    "et_series = np.array(et_series)\n",
    "et_series"
   ]
  },
  {
   "cell_type": "markdown",
   "id": "c612b0de-c933-4a5f-8964-b049bb5957a4",
   "metadata": {},
   "source": [
    "---\n",
    "\n",
    "## Obtaining basin-scale runoff data"
   ]
  },
  {
   "cell_type": "markdown",
   "id": "7b0c2505-3553-4d5e-a3c4-301e97a23a65",
   "metadata": {},
   "source": [
    "https://www.nature.com/articles/s41597-020-00583-2"
   ]
  },
  {
   "cell_type": "code",
   "execution_count": null,
   "id": "65cc6c64-b9a6-4e6b-a75c-e07fee403cb5",
   "metadata": {},
   "outputs": [],
   "source": [
    "import xarray as xr\n",
    "\n",
    "ds = xr.open_dataset('/home/arthur/Workspace/NTSG/projects/Y2024_TOPS_Training/data/HYSETS-2023_watershed_YellowstoneRiver.nc')\n",
    "ds"
   ]
  },
  {
   "cell_type": "code",
   "execution_count": null,
   "id": "faa7caa5-f4e4-440d-b5b1-1417026d9331",
   "metadata": {},
   "outputs": [],
   "source": [
    "ds_10years = ds.sel(time = slice('2014-01-01', '2023-12-31'))\n",
    "ds_10years"
   ]
  },
  {
   "cell_type": "code",
   "execution_count": null,
   "id": "6601d6b3-ec64-4b5b-aa31-90957d9cbbde",
   "metadata": {},
   "outputs": [],
   "source": [
    "ds_10years['discharge'].plot()"
   ]
  },
  {
   "cell_type": "code",
   "execution_count": null,
   "id": "5557d32a-db59-4199-b95b-fae11e06d4fd",
   "metadata": {},
   "outputs": [],
   "source": [
    "# Compute total daily discharge based on the mean rate\n",
    "ds_10years['discharge_total'] = ds_10years.discharge * 60 * 60 * 24"
   ]
  },
  {
   "cell_type": "code",
   "execution_count": null,
   "id": "c4c69434-7dca-4a9e-96a8-ba46cfbce9e7",
   "metadata": {},
   "outputs": [],
   "source": [
    "# https://pandas.pydata.org/pandas-docs/stable/user_guide/timeseries.html#dateoffset-objects\n",
    "\n",
    "# Compute annual discharge\n",
    "ds_10years['discharge_total'].resample(time = 'YS').sum().to_series().plot.bar()"
   ]
  },
  {
   "cell_type": "markdown",
   "id": "e9d11c8a-b0a4-4972-a152-d3ad06fa6159",
   "metadata": {},
   "source": [
    "## Computing basin-scale runoff"
   ]
  },
  {
   "cell_type": "markdown",
   "id": "698de82f-24f5-4b47-9e4c-038ddf82ebdd",
   "metadata": {},
   "source": [
    "### Calculating basin area"
   ]
  },
  {
   "cell_type": "code",
   "execution_count": null,
   "id": "ea83047b-e47d-4e82-8098-fc615804d9f1",
   "metadata": {},
   "outputs": [],
   "source": [
    "basin.crs"
   ]
  },
  {
   "cell_type": "markdown",
   "id": "acb30463-39b1-45c2-87a3-a14d28251869",
   "metadata": {},
   "source": [
    "https://epsg.io/5070"
   ]
  },
  {
   "cell_type": "code",
   "execution_count": null,
   "id": "4c8da01e-1b04-4105-9d09-1b5dda0a5ee7",
   "metadata": {},
   "outputs": [],
   "source": [
    "basin.to_crs(epsg = 5070).crs"
   ]
  },
  {
   "cell_type": "code",
   "execution_count": null,
   "id": "b80c88d3-1a37-4ab7-8038-52106f1c1a93",
   "metadata": {},
   "outputs": [],
   "source": [
    "basin_area = basin.to_crs(epsg = 5070).area.values\n",
    "\n",
    "# Convert from [m] to [km]\n",
    "basin_area / 1e6"
   ]
  },
  {
   "cell_type": "code",
   "execution_count": null,
   "id": "16006106-f4fb-4574-904a-dde594c77952",
   "metadata": {},
   "outputs": [],
   "source": [
    "1.789e11 / 1e6"
   ]
  },
  {
   "cell_type": "code",
   "execution_count": null,
   "id": "bd5b9ac4-9366-4863-99a7-ede18631ca5b",
   "metadata": {},
   "outputs": [],
   "source": [
    "ds_10years.drainage_area"
   ]
  },
  {
   "cell_type": "code",
   "execution_count": null,
   "id": "df7303cc-1cb2-4617-8d93-05f78ba4d8aa",
   "metadata": {},
   "outputs": [],
   "source": [
    "# Get the [m year-1] that this basin drained through Yellowstone River,\n",
    "#  then convert from [m year-1] to [mm year-1]\n",
    "runoff_meters_per_yr = ds_10years['discharge_total'].resample(time = 'YS').sum() / basin_area\n",
    "runoff_mm_per_yr = runoff_meters_per_yr * 1000\n",
    "\n",
    "runoff_series = runoff_mm_per_yr.values\n",
    "runoff_series"
   ]
  },
  {
   "cell_type": "markdown",
   "id": "5854371a-f9d2-4810-bdf8-7091dd95346b",
   "metadata": {},
   "source": [
    "---\n",
    "\n",
    "## Putting It All Together\n",
    "\n",
    "$$\n",
    "P = E + R + \\Delta S \\quad\\rightarrow\\quad \\Delta S = P - (E + R)\n",
    "$$"
   ]
  },
  {
   "cell_type": "code",
   "execution_count": null,
   "id": "f4ed73e4-1bcc-4abc-a0e8-cfef1673b770",
   "metadata": {},
   "outputs": [],
   "source": [
    "ds_precip = xr.open_dataset('processed/IMERG-Final_precip_monthly_2014-2023.nc')\n",
    "\n",
    "precip_series = ds_precip.precip_monthly.mean(['lon','lat']).groupby('time.year').sum().values\n",
    "precip_series"
   ]
  },
  {
   "cell_type": "code",
   "execution_count": null,
   "id": "59c79754-b60d-4171-b095-9d1d902c175b",
   "metadata": {},
   "outputs": [],
   "source": [
    "et_series"
   ]
  },
  {
   "cell_type": "code",
   "execution_count": null,
   "id": "0818523f-8451-4a8f-b8a5-9bde2dd12aa0",
   "metadata": {},
   "outputs": [],
   "source": [
    "runoff_series"
   ]
  },
  {
   "cell_type": "code",
   "execution_count": null,
   "id": "9434cfa2-755c-44db-99c1-3e082c2b202c",
   "metadata": {},
   "outputs": [],
   "source": [
    "years = np.arange(2014, 2024)\n",
    "pyplot.plot(years, precip_series, 'b', label = 'Precipitation')\n",
    "pyplot.plot(years, et_series, 'g', label = 'ET')\n",
    "pyplot.plot(years, runoff_series, 'r', label = 'Runoff')\n",
    "pyplot.ylabel('Water Flux (mm per year)')\n",
    "pyplot.legend()\n",
    "pyplot.show()"
   ]
  },
  {
   "cell_type": "code",
   "execution_count": null,
   "id": "e7830ac5-0c5e-47b9-a10b-13a3d677e546",
   "metadata": {},
   "outputs": [],
   "source": [
    "delta_storage = precip_series - (et_series + runoff_mm_per_yr.values)\n",
    "delta_storage"
   ]
  },
  {
   "cell_type": "code",
   "execution_count": null,
   "id": "553b7106-194a-4d2f-a7c8-e1724055ecac",
   "metadata": {},
   "outputs": [],
   "source": [
    "pyplot.bar(years, height = delta_storage)"
   ]
  }
 ],
 "metadata": {
  "kernelspec": {
   "display_name": "ScienceCore",
   "language": "python",
   "name": "sciencecore"
  },
  "language_info": {
   "codemirror_mode": {
    "name": "ipython",
    "version": 3
   },
   "file_extension": ".py",
   "mimetype": "text/x-python",
   "name": "python",
   "nbconvert_exporter": "python",
   "pygments_lexer": "ipython3",
   "version": "3.10.12"
  }
 },
 "nbformat": 4,
 "nbformat_minor": 5
}
