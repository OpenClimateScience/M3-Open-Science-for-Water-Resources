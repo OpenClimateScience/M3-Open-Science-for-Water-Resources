{
 "cells": [
  {
   "cell_type": "markdown",
   "id": "f72887a5-e703-4b09-aebd-80e1af46fe41",
   "metadata": {},
   "source": [
    "# M3.4 - Creating a Basin-Scale Water Budget\n",
    "\n",
    "*Part of:* [**Open Science for Water Resources**](https://github.com/OpenClimateScience/M3-Open-Science-for-Water-Resources)"
   ]
  },
  {
   "cell_type": "code",
   "execution_count": null,
   "id": "7ecd1732-3f0f-4a7d-96bd-c72c248ceacb",
   "metadata": {},
   "outputs": [],
   "source": [
    "import glob\n",
    "import datetime\n",
    "import earthaccess\n",
    "import numpy as np\n",
    "import h5py\n",
    "import xarray as xr\n",
    "from matplotlib import pyplot\n",
    "\n",
    "auth = earthaccess.login()"
   ]
  },
  {
   "cell_type": "markdown",
   "id": "ae08b036-a6a1-44f6-9c41-99f3be730ad3",
   "metadata": {},
   "source": [
    "$$\n",
    "P = E + R + \\Delta S\n",
    "$$\n",
    "\n",
    "![](./assets/water_budget.png)\n",
    "\n",
    "[*Image courtesy of the USGS*](https://www.usgs.gov/media/images/components-a-simple-water-budget-part-a-watershed)"
   ]
  },
  {
   "cell_type": "markdown",
   "id": "2101c193-83dd-49ad-bed3-efcfde530ada",
   "metadata": {},
   "source": [
    "--- \n",
    "\n",
    "## Estimating evapotranspiration for our basin"
   ]
  },
  {
   "cell_type": "code",
   "execution_count": null,
   "id": "4c7258b5-a3b6-4c86-a25e-aab34abb703c",
   "metadata": {},
   "outputs": [],
   "source": [
    "import geopandas\n",
    "\n",
    "basin = geopandas.read_file('/home/arthur.endsley/Workspace/NTSG/projects/Y2024_TOPS_Training/data/YellowstoneRiver_drainage_WSG84.shp')"
   ]
  },
  {
   "cell_type": "code",
   "execution_count": null,
   "id": "6680e577-350c-497d-9a51-658af2846041",
   "metadata": {},
   "outputs": [],
   "source": [
    "basin.bounds.to_numpy().ravel()"
   ]
  },
  {
   "cell_type": "code",
   "execution_count": null,
   "id": "6490d243-151a-46b8-aed1-2b0477ef42cf",
   "metadata": {},
   "outputs": [],
   "source": [
    "tuple(basin.bounds.to_numpy().ravel())"
   ]
  },
  {
   "cell_type": "code",
   "execution_count": null,
   "id": "d885009d-4716-4c4d-a53d-66a1f021b7c1",
   "metadata": {},
   "outputs": [],
   "source": [
    "# https://dx.doi.org/10.5067/MODIS/MOD16A3GF.061\n",
    "\n",
    "results = earthaccess.search_data(\n",
    "    short_name = 'MOD16A3GF',\n",
    "    temporal = ('2014-01-01', '2018-12-31'),\n",
    "    bounding_box = tuple(basin.bounds.to_numpy().ravel()))"
   ]
  },
  {
   "cell_type": "code",
   "execution_count": null,
   "id": "4f70854b-5d9a-4356-a6f7-4eac358c780a",
   "metadata": {},
   "outputs": [],
   "source": [
    "results_clean = list(filter(lambda granule: 'h10v04' in granule['meta']['native-id'], results))"
   ]
  },
  {
   "cell_type": "code",
   "execution_count": null,
   "id": "0bfd242a-e477-484a-92e2-7f4caca54354",
   "metadata": {},
   "outputs": [],
   "source": [
    "earthaccess.download(results_clean, 'data/MOD16A3')"
   ]
  },
  {
   "cell_type": "markdown",
   "id": "4ef62d62-ac1c-4e2c-bba3-e4268f5109f4",
   "metadata": {},
   "source": [
    "### Installing a new Python package"
   ]
  },
  {
   "cell_type": "code",
   "execution_count": null,
   "id": "d626a2be-db8d-42e0-9734-d74e7fa5c42d",
   "metadata": {},
   "outputs": [],
   "source": [
    "!pip install --upgrade py4eos"
   ]
  },
  {
   "cell_type": "code",
   "execution_count": null,
   "id": "0fc32810-2d48-41bb-affd-f49006c8c834",
   "metadata": {},
   "outputs": [],
   "source": [
    "import py4eos\n",
    "\n",
    "hdf = py4eos.read_hdf4eos('data/MOD16A3/MOD16A3GF.A2014001.h10v04.061.2022077145846.hdf')\n",
    "hdf"
   ]
  },
  {
   "cell_type": "code",
   "execution_count": null,
   "id": "b2f0dc5c-ae52-41f5-88a2-0c8729b70ee4",
   "metadata": {},
   "outputs": [],
   "source": [
    "et = hdf.get('ET_500m')\n",
    "et"
   ]
  },
  {
   "cell_type": "code",
   "execution_count": null,
   "id": "5510a698-5f75-47b3-b5ed-0ac6bbe48af3",
   "metadata": {},
   "outputs": [],
   "source": [
    "et = hdf.get('ET_500m', scale_and_offset = True)\n",
    "et"
   ]
  },
  {
   "cell_type": "code",
   "execution_count": null,
   "id": "4192d791-eee4-4b17-8892-5afac1d618a5",
   "metadata": {},
   "outputs": [],
   "source": [
    "ds_et = hdf.to_rasterio('ET_500m', filename = '', driver = 'MEM')\n",
    "ds_et"
   ]
  },
  {
   "cell_type": "markdown",
   "id": "cd47a911-ed1b-493e-9dcd-7669ee3952c0",
   "metadata": {},
   "source": [
    "### Compiling an ET time series for our basin"
   ]
  },
  {
   "cell_type": "code",
   "execution_count": null,
   "id": "3bf1e81b-3729-4d46-b2b9-378b248eb20c",
   "metadata": {},
   "outputs": [],
   "source": [
    "file_list = glob.glob('data/MOD16A3/*.hdf')\n",
    "file_list"
   ]
  },
  {
   "cell_type": "code",
   "execution_count": null,
   "id": "786688ce-8710-4331-84d3-b6a510e2addb",
   "metadata": {},
   "outputs": [],
   "source": [
    "gtiff_file_list = []\n",
    "\n",
    "for filename in file_list:\n",
    "    year = filename.split('.')[1].replace('A', '').replace('001', '')\n",
    "    hdf = py4eos.read_hdf4eos(filename)\n",
    "    output_filename = f'processed/MOD16A3GF_{year}_ET_500m.tiff'\n",
    "    ds_et = hdf.to_rasterio(\n",
    "        'ET_500m', filename = output_filename, scale_and_offset = True)\n",
    "    ds_et.close()\n",
    "    gtiff_file_list.append(output_filename)"
   ]
  },
  {
   "cell_type": "code",
   "execution_count": null,
   "id": "9ba7242e-1367-497b-9825-91919e321dd5",
   "metadata": {},
   "outputs": [],
   "source": [
    "import rioxarray\n",
    "\n",
    "rioxarray.open_rasterio(output_filename)"
   ]
  },
  {
   "cell_type": "markdown",
   "id": "c612b0de-c933-4a5f-8964-b049bb5957a4",
   "metadata": {},
   "source": [
    "---\n",
    "\n",
    "## Obtaining basin-scale runoff data"
   ]
  },
  {
   "cell_type": "code",
   "execution_count": null,
   "id": "65cc6c64-b9a6-4e6b-a75c-e07fee403cb5",
   "metadata": {},
   "outputs": [],
   "source": [
    "import xarray as xr\n",
    "\n",
    "ds = xr.open_dataset('/home/arthur/Workspace/NTSG/projects/Y2024_TOPS_Training/data/HYSETS_watershed_YellowstoneRiver.nc')\n",
    "ds"
   ]
  },
  {
   "cell_type": "code",
   "execution_count": null,
   "id": "faa7caa5-f4e4-440d-b5b1-1417026d9331",
   "metadata": {},
   "outputs": [],
   "source": [
    "ds_4years = ds.sel(time = slice('2014-01-01', '2018-12-31'))\n",
    "ds_4years"
   ]
  },
  {
   "cell_type": "code",
   "execution_count": null,
   "id": "6601d6b3-ec64-4b5b-aa31-90957d9cbbde",
   "metadata": {},
   "outputs": [],
   "source": [
    "ds_4years['discharge'].plot()"
   ]
  },
  {
   "cell_type": "code",
   "execution_count": null,
   "id": "5557d32a-db59-4199-b95b-fae11e06d4fd",
   "metadata": {},
   "outputs": [],
   "source": [
    "# Compute total daily discharge based on the mean rate\n",
    "ds_4years['discharge_total'] = ds_4years.discharge * 60 * 60 * 24"
   ]
  },
  {
   "cell_type": "code",
   "execution_count": null,
   "id": "c4c69434-7dca-4a9e-96a8-ba46cfbce9e7",
   "metadata": {},
   "outputs": [],
   "source": [
    "# https://pandas.pydata.org/pandas-docs/stable/user_guide/timeseries.html#dateoffset-objects\n",
    "\n",
    "# Compute annual discharge\n",
    "ds_4years['discharge_total'].resample(time = 'YS').sum().to_series().plot.bar()"
   ]
  },
  {
   "cell_type": "markdown",
   "id": "e9d11c8a-b0a4-4972-a152-d3ad06fa6159",
   "metadata": {},
   "source": [
    "## Computing basin-scale runoff"
   ]
  },
  {
   "cell_type": "markdown",
   "id": "698de82f-24f5-4b47-9e4c-038ddf82ebdd",
   "metadata": {},
   "source": [
    "### Calculating basin area"
   ]
  },
  {
   "cell_type": "code",
   "execution_count": null,
   "id": "ea83047b-e47d-4e82-8098-fc615804d9f1",
   "metadata": {},
   "outputs": [],
   "source": [
    "basin.crs"
   ]
  },
  {
   "cell_type": "markdown",
   "id": "acb30463-39b1-45c2-87a3-a14d28251869",
   "metadata": {},
   "source": [
    "https://epsg.io/5070"
   ]
  },
  {
   "cell_type": "code",
   "execution_count": null,
   "id": "4c8da01e-1b04-4105-9d09-1b5dda0a5ee7",
   "metadata": {},
   "outputs": [],
   "source": [
    "basin.to_crs(epsg = 5070).crs"
   ]
  },
  {
   "cell_type": "code",
   "execution_count": null,
   "id": "b80c88d3-1a37-4ab7-8038-52106f1c1a93",
   "metadata": {},
   "outputs": [],
   "source": [
    "basin_area = basin.to_crs(epsg = 5070).area.values\n",
    "\n",
    "# Convert from [m] to [km]\n",
    "basin_area / 1e6"
   ]
  },
  {
   "cell_type": "code",
   "execution_count": null,
   "id": "16006106-f4fb-4574-904a-dde594c77952",
   "metadata": {},
   "outputs": [],
   "source": [
    "1.789e11 / 1e6"
   ]
  },
  {
   "cell_type": "code",
   "execution_count": null,
   "id": "df7303cc-1cb2-4617-8d93-05f78ba4d8aa",
   "metadata": {},
   "outputs": [],
   "source": [
    "# Get the [m year-1] that this basin drained through Yellowstone River,\n",
    "#  then convert from [m year-1] to [mm year-1]\n",
    "runoff_meters_per_yr = ds_4years['discharge_total'].resample(time = 'YS').sum() / basin_area\n",
    "runoff_mm_per_yr = runoff_meters_per_yr * 1000\n",
    "runoff_mm_per_yr"
   ]
  }
 ],
 "metadata": {
  "kernelspec": {
   "display_name": "ScienceCore",
   "language": "python",
   "name": "sciencecore"
  },
  "language_info": {
   "codemirror_mode": {
    "name": "ipython",
    "version": 3
   },
   "file_extension": ".py",
   "mimetype": "text/x-python",
   "name": "python",
   "nbconvert_exporter": "python",
   "pygments_lexer": "ipython3",
   "version": "3.10.12"
  }
 },
 "nbformat": 4,
 "nbformat_minor": 5
}
