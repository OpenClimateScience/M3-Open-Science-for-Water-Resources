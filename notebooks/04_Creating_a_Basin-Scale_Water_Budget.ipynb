{
 "cells": [
  {
   "cell_type": "markdown",
   "id": "f72887a5-e703-4b09-aebd-80e1af46fe41",
   "metadata": {},
   "source": [
    "# M3.4 - Analyzing a Global Precipitation Data Cube\n",
    "\n",
    "*Part of:* [**Open Science for Water Resources**](https://github.com/OpenClimateScience/M3-Open-Science-for-Water-Resources)"
   ]
  },
  {
   "cell_type": "code",
   "execution_count": null,
   "id": "7ecd1732-3f0f-4a7d-96bd-c72c248ceacb",
   "metadata": {},
   "outputs": [],
   "source": [
    "import datetime\n",
    "import earthaccess\n",
    "import numpy as np\n",
    "import h5py\n",
    "import xarray as xr\n",
    "from matplotlib import pyplot\n",
    "\n",
    "auth = earthaccess.login()"
   ]
  },
  {
   "cell_type": "markdown",
   "id": "ae08b036-a6a1-44f6-9c41-99f3be730ad3",
   "metadata": {},
   "source": [
    "$$\n",
    "P = E + R + \\Delta S\n",
    "$$\n",
    "\n",
    "![](./assets/water_budget.png)\n",
    "\n",
    "[*Image courtesy of the USGS*](https://www.usgs.gov/media/images/components-a-simple-water-budget-part-a-watershed)"
   ]
  },
  {
   "cell_type": "markdown",
   "id": "2101c193-83dd-49ad-bed3-efcfde530ada",
   "metadata": {},
   "source": [
    "--- \n",
    "\n",
    "## Estimating evapotranspiration for our basin"
   ]
  },
  {
   "cell_type": "code",
   "execution_count": null,
   "id": "4c7258b5-a3b6-4c86-a25e-aab34abb703c",
   "metadata": {},
   "outputs": [],
   "source": [
    "import geopandas\n",
    "\n",
    "basin = geopandas.read_file('/home/arthur.endsley/Workspace/NTSG/projects/Y2024_TOPS_Training/data/YellowstoneRiver_drainage_WSG84.shp')"
   ]
  },
  {
   "cell_type": "code",
   "execution_count": null,
   "id": "6680e577-350c-497d-9a51-658af2846041",
   "metadata": {},
   "outputs": [],
   "source": [
    "basin.bounds.to_numpy().ravel()"
   ]
  },
  {
   "cell_type": "code",
   "execution_count": null,
   "id": "6490d243-151a-46b8-aed1-2b0477ef42cf",
   "metadata": {},
   "outputs": [],
   "source": [
    "tuple(basin.bounds.to_numpy().ravel())"
   ]
  },
  {
   "cell_type": "code",
   "execution_count": null,
   "id": "d885009d-4716-4c4d-a53d-66a1f021b7c1",
   "metadata": {},
   "outputs": [],
   "source": [
    "# https://dx.doi.org/10.5067/MODIS/MOD16A3GF.061\n",
    "\n",
    "results = earthaccess.search_data(\n",
    "    short_name = 'MOD16A3GF',\n",
    "    temporal = ('2014-01-01', '2018-12-31'),\n",
    "    bounding_box = tuple(basin.bounds.to_numpy().ravel()))"
   ]
  },
  {
   "cell_type": "code",
   "execution_count": null,
   "id": "4f70854b-5d9a-4356-a6f7-4eac358c780a",
   "metadata": {},
   "outputs": [],
   "source": [
    "results_clean = list(filter(lambda granule: 'h10v04' in granule['meta']['native-id'], results))"
   ]
  },
  {
   "cell_type": "code",
   "execution_count": null,
   "id": "0bfd242a-e477-484a-92e2-7f4caca54354",
   "metadata": {},
   "outputs": [],
   "source": [
    "earthaccess.download(results_clean, 'data/MOD16A3')"
   ]
  },
  {
   "cell_type": "markdown",
   "id": "4ef62d62-ac1c-4e2c-bba3-e4268f5109f4",
   "metadata": {},
   "source": [
    "## Installing a new Python package"
   ]
  },
  {
   "cell_type": "code",
   "execution_count": null,
   "id": "d626a2be-db8d-42e0-9734-d74e7fa5c42d",
   "metadata": {},
   "outputs": [],
   "source": [
    "!pip install py4eos"
   ]
  },
  {
   "cell_type": "code",
   "execution_count": null,
   "id": "0fc32810-2d48-41bb-affd-f49006c8c834",
   "metadata": {},
   "outputs": [],
   "source": [
    "import py4eos\n",
    "\n",
    "hdf = py4eos.read_hdf4eos('data/MOD16A3/MOD16A3GF.A2014001.h10v04.061.2022077145846.hdf')\n",
    "hdf"
   ]
  },
  {
   "cell_type": "code",
   "execution_count": null,
   "id": "b2f0dc5c-ae52-41f5-88a2-0c8729b70ee4",
   "metadata": {},
   "outputs": [],
   "source": [
    "et = hdf.get('ET_500m')\n",
    "et"
   ]
  },
  {
   "cell_type": "code",
   "execution_count": null,
   "id": "5510a698-5f75-47b3-b5ed-0ac6bbe48af3",
   "metadata": {},
   "outputs": [],
   "source": [
    "et = hdf.get('ET_500m', scale_and_offset = True)\n",
    "et"
   ]
  },
  {
   "cell_type": "markdown",
   "id": "c612b0de-c933-4a5f-8964-b049bb5957a4",
   "metadata": {},
   "source": [
    "---\n",
    "\n",
    "## Obtaining basin-scale runoff data"
   ]
  },
  {
   "cell_type": "code",
   "execution_count": null,
   "id": "65cc6c64-b9a6-4e6b-a75c-e07fee403cb5",
   "metadata": {},
   "outputs": [],
   "source": [
    "import xarray as xr\n",
    "\n",
    "ds = xr.open_dataset('/home/arthur/Workspace/NTSG/projects/Y2024_TOPS_Training/data/HYSETS_watershed_YellowstoneRiver.nc')\n",
    "ds"
   ]
  },
  {
   "cell_type": "code",
   "execution_count": null,
   "id": "faa7caa5-f4e4-440d-b5b1-1417026d9331",
   "metadata": {},
   "outputs": [],
   "source": [
    "ds_4years = ds.sel(time = slice('2014-01-01', '2018-12-31'))\n",
    "ds_4years"
   ]
  },
  {
   "cell_type": "code",
   "execution_count": null,
   "id": "6601d6b3-ec64-4b5b-aa31-90957d9cbbde",
   "metadata": {},
   "outputs": [],
   "source": [
    "ds_4years['discharge'].plot()"
   ]
  },
  {
   "cell_type": "code",
   "execution_count": null,
   "id": "5557d32a-db59-4199-b95b-fae11e06d4fd",
   "metadata": {},
   "outputs": [],
   "source": [
    "# Compute total daily discharge based on the mean rate\n",
    "ds_4years['discharge_total'] = ds_4years.discharge * 60 * 60 * 24"
   ]
  },
  {
   "cell_type": "code",
   "execution_count": null,
   "id": "c4c69434-7dca-4a9e-96a8-ba46cfbce9e7",
   "metadata": {},
   "outputs": [],
   "source": [
    "# https://pandas.pydata.org/pandas-docs/stable/user_guide/timeseries.html#dateoffset-objects\n",
    "\n",
    "ds_4years['discharge_total'].resample(time = 'YS').sum().to_series().plot.bar()"
   ]
  }
 ],
 "metadata": {
  "kernelspec": {
   "display_name": "ScienceCore",
   "language": "python",
   "name": "sciencecore"
  },
  "language_info": {
   "codemirror_mode": {
    "name": "ipython",
    "version": 3
   },
   "file_extension": ".py",
   "mimetype": "text/x-python",
   "name": "python",
   "nbconvert_exporter": "python",
   "pygments_lexer": "ipython3",
   "version": "3.10.12"
  }
 },
 "nbformat": 4,
 "nbformat_minor": 5
}
