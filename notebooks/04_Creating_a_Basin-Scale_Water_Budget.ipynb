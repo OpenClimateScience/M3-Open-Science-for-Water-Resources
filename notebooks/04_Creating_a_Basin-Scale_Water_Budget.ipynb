{
 "cells": [
  {
   "cell_type": "markdown",
   "id": "f72887a5-e703-4b09-aebd-80e1af46fe41",
   "metadata": {},
   "source": [
    "# M3.4 - Creating a Basin-Scale Water Budget\n",
    "\n",
    "*Part of:* [**Open Science for Water Resources**](https://github.com/OpenClimateScience/M3-Open-Science-for-Water-Resources)"
   ]
  },
  {
   "cell_type": "code",
   "execution_count": null,
   "id": "7ecd1732-3f0f-4a7d-96bd-c72c248ceacb",
   "metadata": {},
   "outputs": [],
   "source": [
    "import glob\n",
    "import datetime\n",
    "import earthaccess\n",
    "import numpy as np\n",
    "import h5py\n",
    "import xarray as xr\n",
    "import rasterio as rio\n",
    "from matplotlib import pyplot\n",
    "\n",
    "auth = earthaccess.login()"
   ]
  },
  {
   "cell_type": "markdown",
   "id": "ae08b036-a6a1-44f6-9c41-99f3be730ad3",
   "metadata": {},
   "source": [
    "We wanted to compute a water budget for the Yellowstone River basin. So far, we've computed the inputs of the equation by calculating the monthly precipitation (P) rate.\n",
    "\n",
    "$$\n",
    "P = E + R + \\Delta S\n",
    "$$\n",
    "\n",
    "Now, we need to compute the outputs side: the loss of water due to evapotranspiration (E) and runoff (R)."
   ]
  },
  {
   "cell_type": "markdown",
   "id": "2101c193-83dd-49ad-bed3-efcfde530ada",
   "metadata": {},
   "source": [
    "--- \n",
    "\n",
    "## Estimating evapotranspiration (ET) for our basin\n",
    "\n",
    "**We'll use [NASA's MODIS MOD16 terrestrial evapotranspiration (ET) product](https://dx.doi.org/10.5067/MODIS/MOD16A3GF.061) to estimate how much water has been evaporated or transpired.**\n",
    "\n",
    "The MODIS MOD16 product provides global estimates of ET. Because of its relatively high spatial resolution (500 m), MOD16 data are not provided as a single, global image. Instead, the data are provided as spatial tiles. [You can see a representation of the MODIS spatial grid system here.](https://modis-land.gsfc.nasa.gov/MODLAND_grid.html) Note that each tile is known by horizontal (h) and vertical (v) coordinates.\n",
    "\n",
    "So, we'll need to first figure out which tile contains our study area.\n",
    "\n",
    "**Let's open the basin Shapefile again so that we can get the [rectangular bounds (link)](https://geopandas.org/en/stable/docs/reference/api/geopandas.GeoSeries.bounds.html) of our basin.**"
   ]
  },
  {
   "cell_type": "code",
   "execution_count": null,
   "id": "4c7258b5-a3b6-4c86-a25e-aab34abb703c",
   "metadata": {},
   "outputs": [],
   "source": [
    "import geopandas\n",
    "\n",
    "basin = geopandas.read_file('/home/arthur.endsley/Workspace/NTSG/projects/Y2024_TOPS_Training/data/YellowstoneRiver_drainage_WSG84.shp')"
   ]
  },
  {
   "cell_type": "code",
   "execution_count": null,
   "id": "6680e577-350c-497d-9a51-658af2846041",
   "metadata": {},
   "outputs": [],
   "source": [
    "# Provided in (min_X, min_Y, max_X, max_Y) order\n",
    "basin.bounds.to_numpy().ravel()"
   ]
  },
  {
   "cell_type": "code",
   "execution_count": null,
   "id": "6490d243-151a-46b8-aed1-2b0477ef42cf",
   "metadata": {},
   "outputs": [],
   "source": [
    "bbox = basin.bounds.to_numpy().ravel()\n",
    "bbox"
   ]
  },
  {
   "cell_type": "markdown",
   "id": "800119b6-e703-4b9a-9e5b-debfcf1c6606",
   "metadata": {},
   "source": [
    "Now, we're ready to download the tiles that intersect our study area.\n",
    "\n",
    "- The `bounding_box` argument to `earthaccess.search_data()` allows us to provide a rectangular bounding box to use as a spatial filter. The argument to `bounding_box` must be a Python `tuple`.\n",
    "- We're downloading a specific version of the MOD16 product, `MOD16A3GF`, where `GF` stands for \"gap-filled,\" an annually reprocessed product that provides the best accuracy for annual ET totals.\n",
    "- MOD16A3GF data come in annual time steps, so we want to filter our search to all data in the years 2014 through 2023."
   ]
  },
  {
   "cell_type": "code",
   "execution_count": null,
   "id": "d885009d-4716-4c4d-a53d-66a1f021b7c1",
   "metadata": {},
   "outputs": [],
   "source": [
    "results = earthaccess.search_data(\n",
    "    short_name = 'MOD16A3GF',\n",
    "    temporal = ('2014-01-01', '2023-12-31'),\n",
    "    bounding_box = tuple(bbox))"
   ]
  },
  {
   "cell_type": "markdown",
   "id": "0075ca98-1e16-4717-aa9c-a8ab973ef0bb",
   "metadata": {},
   "source": [
    "There are actually two tiles that intersect our study area. For simplicity, we'll ignore the very small part of our study area is located in a separate tile from the majority of our basin. Let's filter the results to just the MODIS tile we're interested in, based on its horizontal (h) and vertical (v) coordinates."
   ]
  },
  {
   "cell_type": "code",
   "execution_count": null,
   "id": "4f70854b-5d9a-4356-a6f7-4eac358c780a",
   "metadata": {},
   "outputs": [],
   "source": [
    "results_clean = list(filter(lambda granule: 'h10v04' in granule['meta']['native-id'], results))"
   ]
  },
  {
   "cell_type": "markdown",
   "id": "3f07cb13-7dcf-4d9a-b6e4-9fa28727f002",
   "metadata": {},
   "source": [
    "Then, let's download only the tiles we're interested in.\n",
    "\n",
    "#### &#x1F3AF; Best Practice\n",
    "\n",
    "Note that we've created a specific place for our MODIS MOD16 data: `data/MOD16A3`."
   ]
  },
  {
   "cell_type": "code",
   "execution_count": null,
   "id": "0bfd242a-e477-484a-92e2-7f4caca54354",
   "metadata": {},
   "outputs": [],
   "source": [
    "earthaccess.download(results_clean, 'data/MOD16A3')"
   ]
  },
  {
   "cell_type": "markdown",
   "id": "4ef62d62-ac1c-4e2c-bba3-e4268f5109f4",
   "metadata": {},
   "source": [
    "### Installing a new Python package\n",
    "\n",
    "NASA data products are sometimes provided in scientific data formats that can be difficult to use. MOD16 is provided in the HDF4-EOS format, a special format for NASA spatial datasets. We can't open these data files using `xarray`, so we'll need to install a special library to do so.\n",
    "\n",
    "**The `py4eos` library makes it easier to open HDF4-EOS data files.** To install it, make sure you have activate the virtual environment for our project, then use `pip`:\n",
    "\n",
    "```sh\n",
    "pip install py4eos\n",
    "```"
   ]
  },
  {
   "cell_type": "markdown",
   "id": "13d7066c-611c-4623-bce1-40ea5c13d0a8",
   "metadata": {},
   "source": [
    "Let's open just one of the MOD16 data granules to see how `py4eos` works."
   ]
  },
  {
   "cell_type": "code",
   "execution_count": null,
   "id": "0fc32810-2d48-41bb-affd-f49006c8c834",
   "metadata": {},
   "outputs": [],
   "source": [
    "import py4eos\n",
    "\n",
    "hdf = py4eos.read_hdf4eos('data/MOD16A3/MOD16A3GF.A2014001.h10v04.061.2022077145846.hdf')\n",
    "hdf"
   ]
  },
  {
   "cell_type": "markdown",
   "id": "8c18f006-6cec-451e-bd1f-810f78035f81",
   "metadata": {},
   "source": [
    "We can retrieve a dataset from an HDF4-EOS file using the `get()` method."
   ]
  },
  {
   "cell_type": "code",
   "execution_count": null,
   "id": "b2f0dc5c-ae52-41f5-88a2-0c8729b70ee4",
   "metadata": {},
   "outputs": [],
   "source": [
    "et = hdf.get('ET_500m')\n",
    "et"
   ]
  },
  {
   "cell_type": "markdown",
   "id": "ad9a6434-d115-48c3-8299-9e2253bfbba7",
   "metadata": {},
   "source": [
    "As with many scientific datasets, the data values are scaled so as to reduce the file size. That's the case for MOD16 data, too. The units of MOD16A3 data should be millimeters per year [mm year<sup>-1</sup>], equivalent to [kg m<sup>-2</sup> year<sup>-1</sup>], but the values above are much too large.\n",
    "\n",
    "We can tell `py4eos` to apply the **scale** and **offset** to the data required to obtain the true, geophysical values."
   ]
  },
  {
   "cell_type": "code",
   "execution_count": null,
   "id": "5510a698-5f75-47b3-b5ed-0ac6bbe48af3",
   "metadata": {},
   "outputs": [],
   "source": [
    "et = hdf.get('ET_500m', scale_and_offset = True)\n",
    "et"
   ]
  },
  {
   "cell_type": "markdown",
   "id": "57d0ba5c-f30c-4575-8002-407e1f884a99",
   "metadata": {},
   "source": [
    "And, instead of a NumPy array, we can ask `py4eos` to return a `rasterio` Dataset."
   ]
  },
  {
   "cell_type": "code",
   "execution_count": null,
   "id": "4192d791-eee4-4b17-8892-5afac1d618a5",
   "metadata": {},
   "outputs": [],
   "source": [
    "ds_et = hdf.to_rasterio('ET_500m', filename = '', driver = 'MEM', scale_and_offset = True)\n",
    "ds_et"
   ]
  },
  {
   "cell_type": "markdown",
   "id": "cd47a911-ed1b-493e-9dcd-7669ee3952c0",
   "metadata": {},
   "source": [
    "### Compiling an ET time series for our basin\n",
    "\n",
    "We wanted to get our ET data as a `rasterio` Dataset because we'd like to clip the ET data to the bounds of our basin.\n",
    "\n",
    "Let's first choose an appropriate **coordinate reference system (CRS)** for our analysis. The MODIS MOD16 ET data are represented by a Sinusoidal projection, which is difficult to visualize. Let's choose [the Albers Equal-Area CRS (link)](https://epsg.io/5070) for our analysis."
   ]
  },
  {
   "cell_type": "code",
   "execution_count": null,
   "id": "a713dbdb-fac4-47d1-8812-144b98b45c63",
   "metadata": {},
   "outputs": [],
   "source": [
    "# Project our basin data to the new CRS\n",
    "basin_albers = basin.to_crs(epsg = 5070)\n",
    "basin_albers.geometry[0]"
   ]
  },
  {
   "cell_type": "markdown",
   "id": "33caaee0-81a1-4a8c-bc49-547c344dfd44",
   "metadata": {},
   "source": [
    "**We want to calculate the total ET of our basin for each year, so we'll need to work with all the yearly ET files we've downloaded.**"
   ]
  },
  {
   "cell_type": "code",
   "execution_count": null,
   "id": "3bf1e81b-3729-4d46-b2b9-378b248eb20c",
   "metadata": {},
   "outputs": [],
   "source": [
    "# Get a list of the *.hdf files we downloaded\n",
    "file_list = glob.glob('data/MOD16A3/*.hdf')\n",
    "file_list"
   ]
  },
  {
   "cell_type": "markdown",
   "id": "105f0fc1-6ebd-4217-addc-d666ef8983b5",
   "metadata": {},
   "source": [
    "We'll need to project each MOD16 ET image to the new CRS before clipping it to our basin. Because `rasterio` can't work with HDF4 or HDF4-EOS files, we'll need to convert each MOD16 ET image to a GeoTIFF file, first. **Let's put the processed GeoTIFF files in a new folder, named `processed`.**"
   ]
  },
  {
   "cell_type": "code",
   "execution_count": null,
   "id": "786688ce-8710-4331-84d3-b6a510e2addb",
   "metadata": {},
   "outputs": [],
   "source": [
    "gtiff_file_list = []\n",
    "\n",
    "for filename in file_list:\n",
    "    # Extract the year from the filename\n",
    "    year = filename.split('.')[1].replace('A', '').replace('001', '')\n",
    "    \n",
    "    # Read in the MODIS MOD16 data\n",
    "    hdf = py4eos.read_hdf4eos(filename)\n",
    "    \n",
    "    # Create a rasterio Dataset for this raster; also write out a GeoTIFF file\n",
    "    output_filename = f'processed/MOD16A3GF_{year}_ET_500m.tiff'\n",
    "    ds_et = hdf.to_rasterio(\n",
    "        'ET_500m', filename = output_filename, scale_and_offset = True)\n",
    "    ds_et.close()\n",
    "    \n",
    "    # Save the output GeoTIFF filename\n",
    "    gtiff_file_list.append(output_filename)"
   ]
  },
  {
   "cell_type": "markdown",
   "id": "74331684-1f77-4076-bfdc-ba801c925f63",
   "metadata": {},
   "source": [
    "#### &#x1F3AF; Best Practice\n",
    "\n",
    "Note that we stored the output GeoTIFF files in a new folder, `processed`. We wouldn't want to confuse these files with our raw data!"
   ]
  },
  {
   "cell_type": "code",
   "execution_count": null,
   "id": "35097f95-3703-4cb4-bd2c-1f51b27d035d",
   "metadata": {},
   "outputs": [],
   "source": [
    "gtiff_file_list.sort()\n",
    "gtiff_file_list"
   ]
  },
  {
   "cell_type": "markdown",
   "id": "b422a91e-3915-4791-b6ba-2b7dadc1f78a",
   "metadata": {},
   "source": [
    "### Clipping a spatial dataset to a smaller study area\n",
    "\n",
    "Now, we're ready to clip the MOD16 ET data to our basin. We can clip these datasets using `rasterio`, but we'd ultimately like to work with the data as an `xarray` Dataset. **Let's use `rioxarray`, again, so we can combine the strengths of the `rasterio` and `xarray` libraries.**"
   ]
  },
  {
   "cell_type": "code",
   "execution_count": null,
   "id": "98467ee7-4e9b-4b30-b2c3-ada0f6f34b50",
   "metadata": {},
   "outputs": [],
   "source": [
    "import rioxarray\n",
    "\n",
    "ds_et = rioxarray.open_rasterio(gtiff_file_list[0])\n",
    "\n",
    "# Project the MOD16 data to match the CRS of our basin\n",
    "ds_et_albers = ds_et.rio.reproject(basin_albers.crs)\n",
    "\n",
    "# Clip the MOD16 data to the boundary of our basin; plot the result\n",
    "ds_et_albers.rio.clip(basin_albers.geometry.values).plot()"
   ]
  },
  {
   "cell_type": "markdown",
   "id": "9285c77c-dcc1-46d5-9593-bea212ac5d12",
   "metadata": {},
   "source": [
    "What's nice about this plot is that we can actually see the Yellowstone River where it exits the basin, at the top-right of the image, near Sydney, Montana.\n",
    "\n",
    "**Now, we're ready to do this for each our files. We'll go ahead and calculate the basin-wide ET in the same step, for each file.**"
   ]
  },
  {
   "cell_type": "code",
   "execution_count": null,
   "id": "19c306ed-e1bf-456d-b727-be26aa7d3a3f",
   "metadata": {},
   "outputs": [],
   "source": [
    "# Create an empty list to store the basin-scale ET\n",
    "et_series = []\n",
    "\n",
    "for filename in gtiff_file_list:\n",
    "    ds_et = rioxarray.open_rasterio(filename)\n",
    "    \n",
    "    # Project the MOD16 data to match the CRS of our basin\n",
    "    ds_et_albers = ds_et.rio.reproject(basin_albers.crs)\n",
    "    \n",
    "    # Clip the MOD16 data to the boundary of our basin\n",
    "    ds_et_basin = ds_et_albers.rio.clip(basin_albers.geometry.values)\n",
    "    \n",
    "    # Again, we take the mean because it is equivalent to spatially\n",
    "    #    distributing the columns of water in each pixel\n",
    "    et_series.append(float(ds_et_basin.mean().values))\n",
    "\n",
    "et_series = np.array(et_series)\n",
    "et_series"
   ]
  },
  {
   "cell_type": "markdown",
   "id": "c612b0de-c933-4a5f-8964-b049bb5957a4",
   "metadata": {},
   "source": [
    "---\n",
    "\n",
    "## Obtaining basin-scale runoff data"
   ]
  },
  {
   "cell_type": "markdown",
   "id": "7b0c2505-3553-4d5e-a3c4-301e97a23a65",
   "metadata": {},
   "source": [
    "We now have one more piece of our basin-scale water budget. We're just missing runoff. This can be difficult to obtain in many areas; it's generally only available for *closed basins* where the output stream is gauged. This is the case for the Yellowstone River but also for thousands of basins world-wide. We obtained the gauge data from [HYSETS, which you can read more about here (link).](https://www.nature.com/articles/s41597-020-00583-2)\n",
    "\n",
    "The HYSETS data are difficult to work with, so we've already done the work of subsetting the data to the Yellowstone River. HYSETS provides data on a number of things about a basin, but we're particularly interested in the **discharge** rate and the **drainage area.**"
   ]
  },
  {
   "cell_type": "code",
   "execution_count": null,
   "id": "65cc6c64-b9a6-4e6b-a75c-e07fee403cb5",
   "metadata": {},
   "outputs": [],
   "source": [
    "import xarray as xr\n",
    "\n",
    "ds = xr.open_dataset('/home/arthur/Workspace/NTSG/projects/Y2024_TOPS_Training/data/HYSETS-2023_watershed_YellowstoneRiver.nc')\n",
    "ds"
   ]
  },
  {
   "cell_type": "markdown",
   "id": "78723716-c8d6-4692-9666-ecca3a27f8d9",
   "metadata": {},
   "source": [
    "As we're currently just looking at a 10-year period from 2014 through 2023, let's slice the data to that time range."
   ]
  },
  {
   "cell_type": "code",
   "execution_count": null,
   "id": "faa7caa5-f4e4-440d-b5b1-1417026d9331",
   "metadata": {},
   "outputs": [],
   "source": [
    "ds_10years = ds.sel(time = slice('2014-01-01', '2023-12-31'))\n",
    "ds_10years['discharge'].plot()"
   ]
  },
  {
   "cell_type": "markdown",
   "id": "8aeb9836-53bf-426b-91ce-dec70b4748ab",
   "metadata": {},
   "source": [
    "Our discharge data appear to be in units of cubic meters per second, or [m<sup>3</sup> sec<sup>-1</sup>]. However, our precipitation and ET data are in millimeters per unit time. We'll need to do a conversion:\n",
    "\n",
    "- First, because the HYSETS data are actually in daily time steps, we'll convert the discharge rates to [m<sup>3</sup> day<sup>-1</sup>].\n",
    "- Then, we'll sum up the daily discharge rates to get the total discharge for a year."
   ]
  },
  {
   "cell_type": "code",
   "execution_count": null,
   "id": "5557d32a-db59-4199-b95b-fae11e06d4fd",
   "metadata": {},
   "outputs": [],
   "source": [
    "# Compute total daily discharge based on the mean rate\n",
    "ds_10years['discharge_total'] = ds_10years.discharge * 60 * 60 * 24"
   ]
  },
  {
   "cell_type": "code",
   "execution_count": null,
   "id": "c4c69434-7dca-4a9e-96a8-ba46cfbce9e7",
   "metadata": {},
   "outputs": [],
   "source": [
    "# https://pandas.pydata.org/pandas-docs/stable/user_guide/timeseries.html#dateoffset-objects\n",
    "\n",
    "# Compute annual discharge\n",
    "ds_10years['discharge_total'].resample(time = 'YS').sum().to_series().plot.bar()"
   ]
  },
  {
   "cell_type": "markdown",
   "id": "10ec2e45-c220-4092-a42d-0ae5161f335d",
   "metadata": {},
   "source": [
    "`xarray` doesn't know how to label the vertical axis for the plot, because we just created the new `'discharge_total'` dataset and didn't provide any metadata. But the units are now [m<sup>3</sup> year<sup>-1</sup>]."
   ]
  },
  {
   "cell_type": "markdown",
   "id": "698de82f-24f5-4b47-9e4c-038ddf82ebdd",
   "metadata": {},
   "source": [
    "### Calculating basin area\n",
    "\n",
    "The last step is to determine the area of our basin. We'll use the area to convert discharge rates, currently a volume per unit time, to a vertical height of water (millimeters) per unit time.\n",
    "\n",
    "There are two ways we could calculate the area of our basin. First, HYSETS reports the basin area as the **drainage area.**\n",
    "\n",
    "Second, because we have our basin mapped as polygon, we could simply calculate the area of that polygon. We want to make sure that we measure area in meters, not degrees. The CRS of our new basin Shapefile, below, indicates that the X and Y axes are measured in meters, so that's a good sign."
   ]
  },
  {
   "cell_type": "code",
   "execution_count": null,
   "id": "4c8da01e-1b04-4105-9d09-1b5dda0a5ee7",
   "metadata": {},
   "outputs": [],
   "source": [
    "basin_albers.crs"
   ]
  },
  {
   "cell_type": "markdown",
   "id": "071a0742-47ad-4551-93af-36f892f3784c",
   "metadata": {},
   "source": [
    "We can convert from square meters to square kilometers easily."
   ]
  },
  {
   "cell_type": "code",
   "execution_count": null,
   "id": "b80c88d3-1a37-4ab7-8038-52106f1c1a93",
   "metadata": {},
   "outputs": [],
   "source": [
    "basin_area = basin_albers.area.values\n",
    "\n",
    "# Convert from [square meters] to [square kilometers]\n",
    "basin_area / 1e6"
   ]
  },
  {
   "cell_type": "markdown",
   "id": "1730754c-a1d5-40dd-9da0-171eac8c17c8",
   "metadata": {},
   "source": [
    "How does this compare to the drainage area reported by HYSETS? It's pretty close!"
   ]
  },
  {
   "cell_type": "code",
   "execution_count": null,
   "id": "bd5b9ac4-9366-4863-99a7-ede18631ca5b",
   "metadata": {},
   "outputs": [],
   "source": [
    "ds_10years.drainage_area.values"
   ]
  },
  {
   "cell_type": "markdown",
   "id": "43753879-8083-4abc-88cd-febe95f1a542",
   "metadata": {},
   "source": [
    "### Computing basin-scale runoff\n",
    "\n",
    "Whichever estimate of the basin area we use, we can convert discharge volume to discharge height by dividing by the basin area. The result is an estimate of how much water, in millimeters, drained through the Yellowstone River each year if the entire basin were flooded to the same height."
   ]
  },
  {
   "cell_type": "code",
   "execution_count": null,
   "id": "df7303cc-1cb2-4617-8d93-05f78ba4d8aa",
   "metadata": {},
   "outputs": [],
   "source": [
    "# Get the [m year-1] that this basin drained through Yellowstone River,\n",
    "#  then convert from [m year-1] to [mm year-1]\n",
    "runoff_meters_per_yr = ds_10years['discharge_total'].resample(time = 'YS').sum() / basin_area\n",
    "runoff_mm_per_yr = runoff_meters_per_yr * 1000\n",
    "\n",
    "runoff_series = runoff_mm_per_yr.values\n",
    "runoff_series"
   ]
  },
  {
   "cell_type": "markdown",
   "id": "5854371a-f9d2-4810-bdf8-7091dd95346b",
   "metadata": {},
   "source": [
    "---\n",
    "\n",
    "## Putting it all together\n",
    "\n",
    "We're now ready to complete our water budget. In this exercise, we're interested in how water inputs (precipitation) and water outputs (ET and runoff) balance, with the result being the estimated change in groundwater storage, $\\Delta S$. We can re-arrange the terms of our water budget equation to obtain a formula for $\\Delta S$.\n",
    "\n",
    "$$\n",
    "P = E + R + \\Delta S \\quad\\rightarrow\\quad \\Delta S = P - (E + R)\n",
    "$$\n",
    "\n",
    "Let's open the precipitation data we created earlier."
   ]
  },
  {
   "cell_type": "code",
   "execution_count": null,
   "id": "f4ed73e4-1bcc-4abc-a0e8-cfef1673b770",
   "metadata": {},
   "outputs": [],
   "source": [
    "ds_precip = xr.open_dataset('processed/IMERG-Final_precip_monthly_2014-2023.nc')\n",
    "\n",
    "precip_series = ds_precip.precip_monthly.mean(['lon','lat']).groupby('time.year').sum().values\n",
    "precip_series"
   ]
  },
  {
   "cell_type": "code",
   "execution_count": null,
   "id": "59c79754-b60d-4171-b095-9d1d902c175b",
   "metadata": {},
   "outputs": [],
   "source": [
    "et_series"
   ]
  },
  {
   "cell_type": "code",
   "execution_count": null,
   "id": "0818523f-8451-4a8f-b8a5-9bde2dd12aa0",
   "metadata": {},
   "outputs": [],
   "source": [
    "runoff_series"
   ]
  },
  {
   "cell_type": "markdown",
   "id": "63cbc2f6-6d16-4c4d-aadc-88999792a571",
   "metadata": {},
   "source": [
    "Before we compute $\\Delta S$, let's compare these three water fluxes together over time. As we would expect, they are moderately correlated: lower precipitation levels would certainly imply lower levels of ET and runoff. We can see that 2020 and 2021 were relatively dry years for this basin."
   ]
  },
  {
   "cell_type": "code",
   "execution_count": null,
   "id": "9434cfa2-755c-44db-99c1-3e082c2b202c",
   "metadata": {},
   "outputs": [],
   "source": [
    "years = np.arange(2014, 2024)\n",
    "pyplot.plot(years, precip_series, 'b', label = 'Precipitation')\n",
    "pyplot.plot(years, et_series, 'g', label = 'ET')\n",
    "pyplot.plot(years, runoff_series, 'r', label = 'Runoff')\n",
    "pyplot.ylabel('Water Flux (mm per year)')\n",
    "pyplot.legend()\n",
    "pyplot.show()"
   ]
  },
  {
   "cell_type": "code",
   "execution_count": null,
   "id": "e7830ac5-0c5e-47b9-a10b-13a3d677e546",
   "metadata": {},
   "outputs": [],
   "source": [
    "delta_storage = precip_series - (et_series + runoff_mm_per_yr.values)\n",
    "delta_storage"
   ]
  },
  {
   "cell_type": "markdown",
   "id": "86df074a-0fb1-4f5e-9c55-bbb87c9c50cc",
   "metadata": {},
   "source": [
    "**The final result gives us an estimate of how groundwater storage may have been affected by the balance of water inputs and outputs over this 10-year time period.**"
   ]
  },
  {
   "cell_type": "code",
   "execution_count": null,
   "id": "553b7106-194a-4d2f-a7c8-e1724055ecac",
   "metadata": {},
   "outputs": [],
   "source": [
    "pyplot.bar(years, height = delta_storage)"
   ]
  }
 ],
 "metadata": {
  "kernelspec": {
   "display_name": "ScienceCore",
   "language": "python",
   "name": "sciencecore"
  },
  "language_info": {
   "codemirror_mode": {
    "name": "ipython",
    "version": 3
   },
   "file_extension": ".py",
   "mimetype": "text/x-python",
   "name": "python",
   "nbconvert_exporter": "python",
   "pygments_lexer": "ipython3",
   "version": "3.10.12"
  }
 },
 "nbformat": 4,
 "nbformat_minor": 5
}
