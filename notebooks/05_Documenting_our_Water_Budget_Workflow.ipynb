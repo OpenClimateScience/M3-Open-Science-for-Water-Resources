{
 "cells": [
  {
   "cell_type": "markdown",
   "id": "0fc47f9e-e9bb-4d20-83eb-6ca7a5807842",
   "metadata": {},
   "source": [
    "# M3.5 - Documenting our Water Budget Workflow\n",
    "\n",
    "*Part of:* [**Open Science for Water Resources**](https://github.com/OpenClimateScience/M3-Open-Science-for-Water-Resources)"
   ]
  },
  {
   "cell_type": "markdown",
   "id": "3e7a793d-a469-45af-b8b5-95a23a4b87ef",
   "metadata": {},
   "source": [
    "We've now computed the change in storage for the Yellowstone River basin using our water budget equation. **This is a result that we might want to share with our colleagues and broader scientific community.**\n",
    "\n",
    "**But we're not finished yet!** There are several important questions we should ask ourselves, first:\n",
    "\n",
    "1. How should we communicate this scientific result? That is, how will it be published?\n",
    "2. How do we ensure we get proper credit for this result?\n",
    "3. How can others verify the steps that led to the result we claim?\n",
    "4. How could others contribute to and ultimately improve upon the work we've started?\n",
    "\n",
    "**The answer to Question 1 is typically to submit a manuscript for peer review. However, most journals don't accept scientific code or datasets; you're expected to publish those separately.**\n",
    "\n",
    "- This can lead to uncertain authorship, co-author credit, and licensing concerns (Question 2).\n",
    "- Reviewers might not be able to access your code or your data to verify that the analysis was performed correctly (Question 3).\n",
    "- And, finally, depending on how we publish our code and our data, others may not be able to easily utilize or contribute toward the work we've started (Question 4), which is inefficient and slows down scientific discovery and innovation."
   ]
  },
  {
   "cell_type": "markdown",
   "id": "98f7e051-b57e-4100-9671-b67748c7800c",
   "metadata": {},
   "source": [
    "---\n",
    "\n",
    "## Publishing reproducible scientific workflows\n",
    "\n",
    "**At this point, you may be thinking about that Git repository we created back in Section 3.** The very questions we've raised here can be addressed using Git and an online community called [Github.](https://github.com/)\n",
    "\n",
    "&#x1F449; [**Sign up for a Github account here.**](https://github.com/signup) This will allow you to put your Git repository online for others to access."
   ]
  },
  {
   "cell_type": "markdown",
   "id": "1fc86541-eb37-463c-82a8-dde7e15d4eef",
   "metadata": {},
   "source": [
    "### Putting your repository on Github"
   ]
  },
  {
   "cell_type": "markdown",
   "id": "562df8ca-0b34-463c-b619-18194c103e78",
   "metadata": {},
   "source": [
    "### Updating a repository on Github"
   ]
  },
  {
   "cell_type": "markdown",
   "id": "fa6c8c9d-26e6-4ca3-b92d-d1435e3e5733",
   "metadata": {},
   "source": [
    "---\n",
    "\n",
    "## Best practices for publishing a reproducible scientific workflow\n",
    "\n",
    "#### &#x1F6A9; <span style=\"color:red\">Pay Attention</red>\n",
    "\n",
    "For the rest of this lesson, we'll be referencing [this demonstration project on Github.](https://github.com/OpenClimateScience/demo-M3-project)"
   ]
  },
  {
   "cell_type": "markdown",
   "id": "ed35518e-9fe9-4217-935e-574c47305417",
   "metadata": {},
   "source": [
    "**What are the required contents of a reproducible scientific project when we publish a repository?**\n",
    "\n",
    "The [Journal of Open Source Software (JOSS)](https://joss.theoj.org/), being one of the few journals that actually publishes reproducible scientific code, provides [a detailed list of what you expect to provide](https://joss.readthedocs.io/en/latest/paper.html#what-should-my-paper-contain) so that others can use your research code. Here, we'll discuss just the essentials."
   ]
  },
  {
   "cell_type": "markdown",
   "id": "7471af1a-172c-4dd5-84a5-0cfc2431c738",
   "metadata": {},
   "source": [
    "### The README file\n",
    "\n",
    "[&#x1F449; See the example here.](https://github.com/OpenClimateScience/demo-M3-project/blob/main/README.md)\n",
    "\n",
    "You should include a `README` file in your project root (i.e., the top folder of the repository) that describes:\n",
    "\n",
    "- The purpose of the research code you're publishing\n",
    "- How to install the software, including any software dependencies (e.g., Python libraries) that are required to run it\n",
    "- A minimal example of how the software could be used\n",
    "\n",
    "Note that in [our example](https://github.com/OpenClimateScience/demo-M3-project/blob/main/README.md), we provided the `pip` command that would be needed to install the dependencies. `pip` allows a user to specify a `REQUIREMENTS` file, which is a plain text file that lists the Python software dependencies, including the specific version of each required package. [See the example `REQUIREMENTS` file here.](https://github.com/OpenClimateScience/demo-M3-project/blob/main/REQUIREMENTS)\n",
    "\n",
    "In addition to this essential information, a mature scientific software project should also include:\n",
    "\n",
    "- Information on how to run tests, to verify that the software was installed correctly\n",
    "- A link to the software's documentation"
   ]
  },
  {
   "cell_type": "markdown",
   "id": "331d58ed-8200-41eb-80cc-24a7112a8d0a",
   "metadata": {},
   "source": [
    "### The LICENSE\n",
    "\n",
    "[&#x1F449; See the example here.](https://github.com/OpenClimateScience/demo-M3-project/blob/main/LICENSE)\n",
    "\n",
    "You should also include a software license, ideally in a plain text file called `LICENSE`. There are several considerations that go into choosing a software license, but the most commonly used licenses are described at this helpful website:\n",
    "\n",
    "[&#x1F449; https://choosealicense.com/](https://choosealicense.com/)"
   ]
  },
  {
   "cell_type": "markdown",
   "id": "070739e9-24ea-4343-9c30-1982d25197ba",
   "metadata": {},
   "source": [
    "---\n",
    "\n",
    "## Reproducible research code\n",
    "\n",
    "Finally, in this minimal example, we have the research code itself. We opted to put it in a folder called `scripts` because our entire project currently consists of three (3) separate Python scripts that simply need to be executed in the correct order.\n",
    "\n",
    "Despite the simplicity of this example, there are some key features of our research code that will help someone to run our code."
   ]
  },
  {
   "cell_type": "markdown",
   "id": "73385e69-7950-42da-bed1-4857b9e220ec",
   "metadata": {},
   "source": [
    "### Appropriate use of Python docstrings\n",
    "\n",
    "We used included a *docstring* at the top of each our Python scripts. For example, in `step01_IMERG-Final_monthly_precipitation.py`, the docstring describes the purpose of the script and how to run it:\n",
    "\n",
    "```\n",
    "'''\n",
    "Computes monthly precipitation data for a basin (represented in a Shapefile)\n",
    "based on IMERG-Final data. To execute this script:\n",
    "\n",
    "    python step01_IMERG-Final_monthly_precipitation.py true\n",
    "\n",
    "Where the argument \"true\" will cause the script to download the required data\n",
    "from NASA Earthdata Search.\n",
    "'''\n",
    "```"
   ]
  },
  {
   "cell_type": "markdown",
   "id": "a1c5f9c8-68aa-4e69-aa14-b2ef8e67a341",
   "metadata": {},
   "source": [
    "### Global variables that are easy to find\n",
    "\n",
    "Also near the top of each script we have defined the global variables that point to input and output files. The user may want to change these details, so we put them towards the top of the script to make them easy to find. For example:\n",
    "\n",
    "```python\n",
    "CWD = pathlib.Path(__file__).parent.resolve() # Current working directory\n",
    "OUTPUT_FILE = CWD.parent.joinpath('processed/IMERG-Final_precip_monthly_2014-2023.nc')\n",
    "BASIN_FILE = CWD.parent.joinpath('data/shp/YellowstoneRiver_drainage_WSG84.shp')\n",
    "```\n",
    "\n",
    "Recall that the convention is to use all capital letters for global variables so it is also easy to find where they are used."
   ]
  },
  {
   "cell_type": "markdown",
   "id": "19eca24c-21a3-4bf8-a1cb-b4c7ba8064ca",
   "metadata": {},
   "source": [
    "### Handling file paths on different file systems\n",
    "\n",
    "Our project's directory structure looks something like this:\n",
    "\n",
    "```\n",
    "demo-M3-project/\n",
    "|-- h2o/\n",
    "    |-- data/\n",
    "        |-- shp/\n",
    "    |-- processed/\n",
    "    |-- scripts/\n",
    "```\n",
    "\n",
    "The Python scripts are located in the `scripts` folder, within the `h2o` folder. But, ultimately, users choose where to put the `demo-M3-project` on their own file system and we can't predict where that might be.\n",
    "\n",
    "In each Python script, we used the `pathlib` library and the special, pre-defined `__file__` variable so that the script can be run on any user's file system, regardless of where they put the scripts. The following line defines a global variable `CWD` (\"current working directory\") that can be used to locate the *parent* of the `scripts` folder (the folder called `h2o`) on any user's file system:\n",
    "\n",
    "```python\n",
    "# Get the path to the \"h2o\" folder on any system\n",
    "CWD = pathlib.Path(__file__).parent.resolve()\n",
    "```\n",
    "\n",
    "Then, we're able to get the absolute file path to any file we're interested in, for example:\n",
    "\n",
    "```python\n",
    "BASIN_FILE = CWD.parent.joinpath('data/shp/YellowstoneRiver_drainage_WSG84.shp')\n",
    "```"
   ]
  },
  {
   "cell_type": "markdown",
   "id": "781df460-d1d3-4d39-95b5-8c914c975b66",
   "metadata": {},
   "source": [
    "---\n",
    "\n",
    "## Summary\n",
    "\n",
    "If this was your first time publishing research code to Github, congratulations! While this project is just a simple demonstration, we've included the bare minimum requirements for someone else to run our research code.\n",
    "\n",
    "In the following modules of [this open-science curriculum,](https://openclimatescience.github.io/curriculum) we'll see more sophisticated ways of publishing research code that is reproducible and ready to use."
   ]
  }
 ],
 "metadata": {
  "kernelspec": {
   "display_name": "ScienceCore",
   "language": "python",
   "name": "sciencecore"
  },
  "language_info": {
   "codemirror_mode": {
    "name": "ipython",
    "version": 3
   },
   "file_extension": ".py",
   "mimetype": "text/x-python",
   "name": "python",
   "nbconvert_exporter": "python",
   "pygments_lexer": "ipython3",
   "version": "3.10.12"
  }
 },
 "nbformat": 4,
 "nbformat_minor": 5
}
