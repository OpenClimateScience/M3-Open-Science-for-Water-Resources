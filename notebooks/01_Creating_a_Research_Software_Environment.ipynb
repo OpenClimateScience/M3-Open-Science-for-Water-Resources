{
 "cells": [
  {
   "cell_type": "markdown",
   "id": "a93d5b81-27ce-4a87-b2fc-e0ccbd3ca0e5",
   "metadata": {},
   "source": [
    "# M3.1 - Creating a Research Software Environment\n",
    "\n",
    "*Part of:* [**Open Science for Water Resources**](https://github.com/OpenClimateScience/M3-Open-Science-for-Water-Resources)"
   ]
  },
  {
   "cell_type": "markdown",
   "id": "da3eb849-65dd-48d9-9390-f37286aef767",
   "metadata": {},
   "source": [
    "## Software versions and reproducibility"
   ]
  },
  {
   "cell_type": "markdown",
   "id": "5ade7e42-c9cd-4a69-97cd-cefd9a4438d8",
   "metadata": {},
   "source": [
    "### Python virtual environments\n",
    "\n",
    "### Creating a Python virtual environment\n",
    "\n",
    "### Using `pip` in a Python virtual environment"
   ]
  },
  {
   "attachments": {},
   "cell_type": "markdown",
   "id": "930be484-8cdf-4fc7-b999-141d44e65470",
   "metadata": {},
   "source": [
    "### Using Jupyter Notebook in a Python virtual environment\n",
    "\n",
    "Jupyter Notebook makes it possible to work with literate programming documents in a variety of programming languages, not just Python. When you open a Notebook, you can specify the **kernel** that should be used for running any code in that Notebook. The **kernel** is simply the computer program that executes code; it could be the Python intepereter or it could be an interpreter for another language, like R.\n",
    "\n",
    "**You can see the current kernel your Notebook is configured to use at the top-right of any Notebook:**\n",
    "\n",
    "![](./assets/M3_Jupyter_kernel.png)\n",
    "\n",
    "\n",
    "You may see a slightly different *kernel name;* here, \"Python 3 (ipykernel)\" is the name of our kernel. If you click on this name, you'll see a menu that allows you to change the kernel being used.\n",
    "\n",
    "**When we work in a virtual environment, Jupyter Notebook doesn't always know that it should be using the Python installation associated with that virtual environment.** This means that packages we install in the virtual environment might not be available in Jupyter Notebook.\n",
    "\n",
    "**How can we tell Jupyter Notebook to use the Python kernel associated with our virtual environment?** First, make sure you're virtual environment is still activated in the Terminal. We'll install a Python package called `ipykernel`, which will allow us to register a Python kernel with Jupyter Notebook:\n",
    "\n",
    "```sh\n",
    "pip install ipykernel\n",
    "```\n",
    "\n",
    "Then, with Jupyter Notebook and `ipykernel` both installed in our virtual environment, we tell `ipykernel` to make the current Python kernel (the for our virtual environment) available as a kernel in Jupyter Notebook. In this example, we give it the name `OpenScience` so that we know it is associated with our open science project:\n",
    "\n",
    "```sh\n",
    "python -m ipykernel install --user --name=OpenScience\n",
    "```\n",
    "\n",
    "**Now, restart Jupyter Notebook. Click on the kernel name at the top-right of the Notebook you want to work in. You should see a selection menu, similar to the one below:**\n",
    "\n",
    "![](./assets/M3_Jupyter_kernel_selection.png)\n",
    "\n",
    "You should see the \"OpenScience\" kernel in the list of available kernels. Selecting that kernel will enable you to work with the Python packages that you installed in your virtual environment.\n",
    "\n",
    "#### &#x1F3AF; Best Practice\n",
    "\n",
    "**It's good practice to make sure the name of your virtual environment and your Jupyter kernel match.** That way, when you have multiple projects, it's clear which kernel is associated with the virtual environment you're working in."
   ]
  },
  {
   "cell_type": "markdown",
   "id": "0c9e3282-9695-420e-bb96-e5379eefa1be",
   "metadata": {},
   "source": [
    "---\n",
    "\n",
    "### More resources\n",
    "\n",
    "- [Using Virtual Environments in Jupyter Notebook and Python](https://janakiev.com/blog/jupyter-virtual-envs/#add-virtual-environment-to-jupyter-notebook) - A blog post"
   ]
  }
 ],
 "metadata": {
  "kernelspec": {
   "display_name": "Python 3 (ipykernel)",
   "language": "python",
   "name": "python3"
  },
  "language_info": {
   "codemirror_mode": {
    "name": "ipython",
    "version": 3
   },
   "file_extension": ".py",
   "mimetype": "text/x-python",
   "name": "python",
   "nbconvert_exporter": "python",
   "pygments_lexer": "ipython3",
   "version": "3.10.12"
  }
 },
 "nbformat": 4,
 "nbformat_minor": 5
}
