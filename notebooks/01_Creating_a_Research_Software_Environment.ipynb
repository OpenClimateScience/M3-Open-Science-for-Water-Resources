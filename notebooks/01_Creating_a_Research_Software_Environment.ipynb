{
 "cells": [
  {
   "cell_type": "markdown",
   "id": "a93d5b81-27ce-4a87-b2fc-e0ccbd3ca0e5",
   "metadata": {},
   "source": [
    "# M1.1 - Creating a Research Software Environment"
   ]
  },
  {
   "cell_type": "markdown",
   "id": "da3eb849-65dd-48d9-9390-f37286aef767",
   "metadata": {},
   "source": [
    "## Software versions and reproducibility"
   ]
  },
  {
   "cell_type": "markdown",
   "id": "5ade7e42-c9cd-4a69-97cd-cefd9a4438d8",
   "metadata": {},
   "source": [
    "### Python virtual environments\n",
    "\n",
    "### Creating a Python virtual environment\n",
    "\n",
    "### Using `pip` in a Python virtual environment\n",
    "\n",
    "### Using Jupyter Notebook in a Python virtual environment"
   ]
  },
  {
   "cell_type": "markdown",
   "id": "0c9e3282-9695-420e-bb96-e5379eefa1be",
   "metadata": {},
   "source": [
    "---"
   ]
  }
 ],
 "metadata": {
  "kernelspec": {
   "display_name": "Python 3 (ipykernel)",
   "language": "python",
   "name": "python3"
  },
  "language_info": {
   "codemirror_mode": {
    "name": "ipython",
    "version": 3
   },
   "file_extension": ".py",
   "mimetype": "text/x-python",
   "name": "python",
   "nbconvert_exporter": "python",
   "pygments_lexer": "ipython3",
   "version": "3.10.12"
  }
 },
 "nbformat": 4,
 "nbformat_minor": 5
}
