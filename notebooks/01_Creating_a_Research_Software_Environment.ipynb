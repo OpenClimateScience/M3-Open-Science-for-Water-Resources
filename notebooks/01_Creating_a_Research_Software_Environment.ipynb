{
 "cells": [
  {
   "cell_type": "markdown",
   "id": "a93d5b81-27ce-4a87-b2fc-e0ccbd3ca0e5",
   "metadata": {},
   "source": [
    "# M3.1 - Creating a Research Software Environment\n",
    "\n",
    "*Part of:* [**Open Science for Water Resources**](https://github.com/OpenClimateScience/M3-Open-Science-for-Water-Resources)"
   ]
  },
  {
   "cell_type": "markdown",
   "id": "da3eb849-65dd-48d9-9390-f37286aef767",
   "metadata": {},
   "source": [
    "## Software versions and reproducibility"
   ]
  },
  {
   "cell_type": "markdown",
   "id": "59b87bb4-69fe-4d28-ab15-10217a93d141",
   "metadata": {},
   "source": [
    "When research software is used in an analysis, the results of that analysis depend on the software used, including the specific version of that software. To create *reproducible* research using software, we need to clearly identify and communicate all of the software dependencies and their versions. This becomes complicated when we consider how our own software's behavior depends on (open-source) software that other people wrote. A Python program's results may also depend on the version of Python used! **How can we keep track of it all?**\n",
    "\n",
    "[In the previous lesson (link)](https://github.com/OpenClimateScience/M2-Computational-Climate-Science), we learned how to use the software `pip` to install and manage Python packages. Previously, when we used `pip`, we were installing Python packages to our user directory. The new packages were available to use every time we started Python. Our version of Python and all of the packages we have installed are collectively referred to as our Python *environment.* Every new Python project we start is able to access those same packages.\n",
    "\n",
    "**This sounds convenient, but there are some downsides.** To understand what can go wrong when several different Python projects use the same *environment,* let's imagine we are about to start a new Python project using code that someone else wrote, a module named `example.py`.\n",
    "\n",
    "`example.py` uses NumPy **version 1.26.0** to provide some convenient tools for an analysis you want to perform but, on your system, you have NumPy **version 2.0.0** installed.\n",
    "\n",
    "- `example.py` can only use **version 1.26.0** or earlier, because it uses NumPy's representation of infinity, `np.infty`, which was changed to `np.inf` in **version 2.0.0.** The developer of `example.py` would have to go through all of their code, replacing `np.infty` with `np.inf`, and they don't have the time or interest to do this right now.\n",
    "- On our system, we started a new project where we have to use NumPy **version 2.0.0** because that version added support for a new feature we need. To run `example.py`, we'd have to *downgrade* to **version 1.26.0** and then our new project wouldn't work!\n",
    "\n",
    "**This hypothetical illustrates the problems we can run into when we try to run different Python projects in the same environment.**"
   ]
  },
  {
   "cell_type": "markdown",
   "id": "f43fd8da-2d72-402b-9d22-72fc42e2e965",
   "metadata": {},
   "source": [
    "### Software versioning\n",
    "\n",
    "Before we discuss the solution to this problem, let's talk about what software version numbers mean.\n",
    "\n",
    "There are two commonly used ways to indicate a software's version.\n",
    "\n",
    "- **Calendar versioning,** where the version number reflects the date of the software's release, usually in `YYYY.MM` format.\n",
    "- **Semantic versioning,** where the version number represents *how different* the new software version is from a previous version.\n",
    "\n",
    "[**Semantic versioning** (link)](https://semver.org/#semantic-versioning-200) is the most common. In semantic versioning, a software's version number has three parts, separated by dots:\n",
    "\n",
    "```\n",
    "MAJOR.MINOR.PATCH\n",
    "```\n",
    "\n",
    "For example, NumPy uses semantic versioning when it releases software versions numbered **version 2.0.0** or **version 1.26.0.**\n",
    "\n",
    "- The first number, the `MAJOR` (\"major\") version number, is used to indicate changes to a software that will almost certainly break any software that depended on a previous major version. Recall our earlier example, where a change from `np.infty` to `np.inf` in NumPy version 2.0.0 would cause `example.py` to break. That's why NumPy's developer increased the major version number from 1 to 2.\n",
    "- The second number, the `MINOR` (\"minor\") version number, is used when new features are added in a *backwards-compatible* manner; i.e., in a way that won't break software that depends on it. In NumPy version 1.26.0, 26 is the minor version number.\n",
    "- The third number, the `PATCH` (\"patch\") version number, is used when we need to release a new version of the software to fix (or to \"patch\") a bug. The new version shouldn't break anything; in fact, it is released specifically to fix a problem with the previous version."
   ]
  },
  {
   "cell_type": "markdown",
   "id": "5ade7e42-c9cd-4a69-97cd-cefd9a4438d8",
   "metadata": {},
   "source": [
    "### Python virtual environments\n",
    "\n",
    "**The solution to the problem with our NumPy versions is to create separate Python environments for different projects.** \n",
    "\n",
    "`virtualenv` is a tool that we'll use for creating Python virtual environments. Using `virtualenv`, each of our projects can have a different Python installation, where different packages can be installed with different versions. We can even use different versions of Python itself in each environment.\n",
    "\n",
    "![](./assets/M3_venv.png)"
   ]
  },
  {
   "cell_type": "markdown",
   "id": "ffbd5e07-60bb-4edb-9504-e5703e70da84",
   "metadata": {},
   "source": [
    "### Creating a Python virtual environment\n",
    "\n",
    "To get started, let's use the command line, as we did in the previous lesson. The screenshot below is a helpful reminder of how to launch the command line.\n",
    "\n",
    "![](./assets/M2_Jupyter_terminal.png)\n",
    "\n",
    "#### &#x1F6A9; <span style=\"color:red\">Pay Attention</red>\n",
    "\n",
    "Python virtual environments, using `virtualenv`, are stored on our file system in their own directories. You should generally have a single place on your file system where all the virtual environments are stored, such as in a sub-directory of your home folder. However, in Jupyter Notebook, we only have access to a limited part of the file system. So, for now, we'll just create our virtual environment in our project directory, inside the `venv` folder:\n",
    "\n",
    "```sh\n",
    "mkdir venv\n",
    "```\n",
    "\n",
    "**To create a new Python virtual environment, we just need to provide the file path to the folder where it should be created.** We should choose a short but informative name; today, we'll call our project `h2o` (for \"water\"):\n",
    "\n",
    "```sh\n",
    "virtualenv venv/h2o\n",
    "```\n",
    "\n",
    "### Using `pip` in a Python virtual environment"
   ]
  },
  {
   "attachments": {},
   "cell_type": "markdown",
   "id": "930be484-8cdf-4fc7-b999-141d44e65470",
   "metadata": {},
   "source": [
    "### Using Jupyter Notebook in a Python virtual environment\n",
    "\n",
    "Jupyter Notebook makes it possible to work with literate programming documents in a variety of programming languages, not just Python. When you open a Notebook, you can specify the **kernel** that should be used for running any code in that Notebook. The **kernel** is simply the computer program that executes code; it could be the Python intepereter or it could be an interpreter for another language, like R.\n",
    "\n",
    "**You can see the current kernel your Notebook is configured to use at the top-right of any Notebook:**\n",
    "\n",
    "![](./assets/M3_Jupyter_kernel.png)\n",
    "\n",
    "\n",
    "You may see a slightly different *kernel name;* here, \"Python 3 (ipykernel)\" is the name of our kernel. If you click on this name, you'll see a menu that allows you to change the kernel being used.\n",
    "\n",
    "**When we work in a virtual environment, Jupyter Notebook doesn't always know that it should be using the Python installation associated with that virtual environment.** This means that packages we install in the virtual environment might not be available in Jupyter Notebook.\n",
    "\n",
    "**How can we tell Jupyter Notebook to use the Python kernel associated with our virtual environment?** First, make sure you're virtual environment is still activated in the Terminal. We'll install a Python package called `ipykernel`, which will allow us to register a Python kernel with Jupyter Notebook:\n",
    "\n",
    "```sh\n",
    "pip install ipykernel\n",
    "```\n",
    "\n",
    "Then, with Jupyter Notebook and `ipykernel` both installed in our virtual environment, we tell `ipykernel` to make the current Python kernel (the for our virtual environment) available as a kernel in Jupyter Notebook. In this example, we give it the name `OpenScience` so that we know it is associated with our open science project:\n",
    "\n",
    "```sh\n",
    "python -m ipykernel install --user --name=OpenScience\n",
    "```\n",
    "\n",
    "**Now, restart Jupyter Notebook. Click on the kernel name at the top-right of the Notebook you want to work in. You should see a selection menu, similar to the one below:**\n",
    "\n",
    "![](./assets/M3_Jupyter_kernel_selection.png)\n",
    "\n",
    "You should see the \"OpenScience\" kernel in the list of available kernels. Selecting that kernel will enable you to work with the Python packages that you installed in your virtual environment.\n",
    "\n",
    "#### &#x1F3AF; Best Practice\n",
    "\n",
    "**It's good practice to make sure the name of your virtual environment and your Jupyter kernel match.** That way, when you have multiple projects, it's clear which kernel is associated with the virtual environment you're working in."
   ]
  },
  {
   "cell_type": "markdown",
   "id": "0c9e3282-9695-420e-bb96-e5379eefa1be",
   "metadata": {},
   "source": [
    "---\n",
    "\n",
    "### More resources\n",
    "\n",
    "- [Using Virtual Environments in Jupyter Notebook and Python](https://janakiev.com/blog/jupyter-virtual-envs/#add-virtual-environment-to-jupyter-notebook) - A blog post"
   ]
  }
 ],
 "metadata": {
  "kernelspec": {
   "display_name": "Python 3 (ipykernel)",
   "language": "python",
   "name": "python3"
  },
  "language_info": {
   "codemirror_mode": {
    "name": "ipython",
    "version": 3
   },
   "file_extension": ".py",
   "mimetype": "text/x-python",
   "name": "python",
   "nbconvert_exporter": "python",
   "pygments_lexer": "ipython3",
   "version": "3.10.12"
  }
 },
 "nbformat": 4,
 "nbformat_minor": 5
}
