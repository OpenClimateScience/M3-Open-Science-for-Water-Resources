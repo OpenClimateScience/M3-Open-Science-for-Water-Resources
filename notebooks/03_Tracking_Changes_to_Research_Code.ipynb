{
 "cells": [
  {
   "cell_type": "markdown",
   "id": "f72887a5-e703-4b09-aebd-80e1af46fe41",
   "metadata": {},
   "source": [
    "# M3.3 - Tracking Changes to Research Code\n",
    "\n",
    "*Part of:* [**Open Science for Water Resources**](https://github.com/OpenClimateScience/M3-Open-Science-for-Water-Resources)"
   ]
  },
  {
   "cell_type": "markdown",
   "id": "45f28068-7b2d-4b66-96a6-b2b3ea3a8271",
   "metadata": {},
   "source": [
    "All we did was move the `import` statements to the top of the code block, where they belong."
   ]
  },
  {
   "cell_type": "code",
   "execution_count": 2,
   "id": "504d3d5c-0be5-4398-a69e-f7de7e34d89a",
   "metadata": {},
   "outputs": [
    {
     "name": "stdout",
     "output_type": "stream",
     "text": [
      "Granules found: 60\n",
      " Getting 60 granules, approx download size: 1.04 GB\n"
     ]
    },
    {
     "data": {
      "application/vnd.jupyter.widget-view+json": {
       "model_id": "575c6c42864d4791a547d6bca65624bb",
       "version_major": 2,
       "version_minor": 0
      },
      "text/plain": [
       "QUEUEING TASKS | :   0%|          | 0/60 [00:00<?, ?it/s]"
      ]
     },
     "metadata": {},
     "output_type": "display_data"
    },
    {
     "name": "stdout",
     "output_type": "stream",
     "text": [
      "File 3B-MO.MS.MRG.3IMERG.20180201-S000000-E235959.02.V07B.HDF5 already downloadedFile 3B-MO.MS.MRG.3IMERG.20180101-S000000-E235959.01.V07B.HDF5 already downloaded\n",
      "File 3B-MO.MS.MRG.3IMERG.20180301-S000000-E235959.03.V07B.HDF5 already downloaded\n",
      "\n",
      "File 3B-MO.MS.MRG.3IMERG.20180701-S000000-E235959.07.V07B.HDF5 already downloaded\n",
      "File 3B-MO.MS.MRG.3IMERG.20180501-S000000-E235959.05.V07B.HDF5 already downloaded\n",
      "File 3B-MO.MS.MRG.3IMERG.20180401-S000000-E235959.04.V07B.HDF5 already downloaded\n",
      "File 3B-MO.MS.MRG.3IMERG.20180601-S000000-E235959.06.V07B.HDF5 already downloaded\n",
      "File 3B-MO.MS.MRG.3IMERG.20180901-S000000-E235959.09.V07B.HDF5 already downloaded\n",
      "File 3B-MO.MS.MRG.3IMERG.20181001-S000000-E235959.10.V07B.HDF5 already downloaded\n",
      "File 3B-MO.MS.MRG.3IMERG.20181101-S000000-E235959.11.V07B.HDF5 already downloaded\n",
      "File 3B-MO.MS.MRG.3IMERG.20181201-S000000-E235959.12.V07B.HDF5 already downloaded\n",
      "File 3B-MO.MS.MRG.3IMERG.20190101-S000000-E235959.01.V07B.HDF5 already downloaded\n",
      "File 3B-MO.MS.MRG.3IMERG.20180801-S000000-E235959.08.V07B.HDF5 already downloaded\n",
      "File 3B-MO.MS.MRG.3IMERG.20190301-S000000-E235959.03.V07B.HDF5 already downloaded\n",
      "File 3B-MO.MS.MRG.3IMERG.20190201-S000000-E235959.02.V07B.HDF5 already downloaded\n",
      "File 3B-MO.MS.MRG.3IMERG.20190501-S000000-E235959.05.V07B.HDF5 already downloaded\n",
      "File 3B-MO.MS.MRG.3IMERG.20190601-S000000-E235959.06.V07B.HDF5 already downloaded\n",
      "File 3B-MO.MS.MRG.3IMERG.20190701-S000000-E235959.07.V07B.HDF5 already downloaded\n",
      "File 3B-MO.MS.MRG.3IMERG.20190801-S000000-E235959.08.V07B.HDF5 already downloaded\n",
      "File 3B-MO.MS.MRG.3IMERG.20190401-S000000-E235959.04.V07B.HDF5 already downloaded\n",
      "File 3B-MO.MS.MRG.3IMERG.20190901-S000000-E235959.09.V07B.HDF5 already downloaded\n",
      "File 3B-MO.MS.MRG.3IMERG.20191001-S000000-E235959.10.V07B.HDF5 already downloaded\n",
      "File 3B-MO.MS.MRG.3IMERG.20191101-S000000-E235959.11.V07B.HDF5 already downloaded\n",
      "File 3B-MO.MS.MRG.3IMERG.20200401-S000000-E235959.04.V07B.HDF5 already downloaded\n",
      "File 3B-MO.MS.MRG.3IMERG.20200501-S000000-E235959.05.V07B.HDF5 already downloaded\n",
      "File 3B-MO.MS.MRG.3IMERG.20200601-S000000-E235959.06.V07B.HDF5 already downloaded\n",
      "File 3B-MO.MS.MRG.3IMERG.20200701-S000000-E235959.07.V07B.HDF5 already downloaded\n",
      "File 3B-MO.MS.MRG.3IMERG.20200801-S000000-E235959.08.V07B.HDF5 already downloaded\n",
      "File 3B-MO.MS.MRG.3IMERG.20200901-S000000-E235959.09.V07B.HDF5 already downloaded\n",
      "File 3B-MO.MS.MRG.3IMERG.20201001-S000000-E235959.10.V07B.HDF5 already downloaded\n",
      "File 3B-MO.MS.MRG.3IMERG.20201101-S000000-E235959.11.V07B.HDF5 already downloaded\n",
      "File 3B-MO.MS.MRG.3IMERG.20201201-S000000-E235959.12.V07B.HDF5 already downloaded\n",
      "File 3B-MO.MS.MRG.3IMERG.20210101-S000000-E235959.01.V07B.HDF5 already downloaded\n",
      "File 3B-MO.MS.MRG.3IMERG.20210201-S000000-E235959.02.V07B.HDF5 already downloaded\n",
      "File 3B-MO.MS.MRG.3IMERG.20210301-S000000-E235959.03.V07B.HDF5 already downloaded\n",
      "File 3B-MO.MS.MRG.3IMERG.20200301-S000000-E235959.03.V07B.HDF5 already downloaded\n",
      "File 3B-MO.MS.MRG.3IMERG.20210401-S000000-E235959.04.V07B.HDF5 already downloaded\n",
      "File 3B-MO.MS.MRG.3IMERG.20210601-S000000-E235959.06.V07B.HDF5 already downloaded\n",
      "File 3B-MO.MS.MRG.3IMERG.20210701-S000000-E235959.07.V07B.HDF5 already downloaded\n",
      "File 3B-MO.MS.MRG.3IMERG.20210801-S000000-E235959.08.V07B.HDF5 already downloaded\n",
      "File 3B-MO.MS.MRG.3IMERG.20210901-S000000-E235959.09.V07B.HDF5 already downloaded\n",
      "File 3B-MO.MS.MRG.3IMERG.20211001-S000000-E235959.10.V07B.HDF5 already downloaded\n",
      "File 3B-MO.MS.MRG.3IMERG.20211101-S000000-E235959.11.V07B.HDF5 already downloaded\n",
      "File 3B-MO.MS.MRG.3IMERG.20211201-S000000-E235959.12.V07B.HDF5 already downloaded\n",
      "File 3B-MO.MS.MRG.3IMERG.20220101-S000000-E235959.01.V07B.HDF5 already downloaded\n",
      "File 3B-MO.MS.MRG.3IMERG.20210501-S000000-E235959.05.V07B.HDF5 already downloaded\n",
      "File 3B-MO.MS.MRG.3IMERG.20191201-S000000-E235959.12.V07B.HDF5 already downloaded\n",
      "File 3B-MO.MS.MRG.3IMERG.20200101-S000000-E235959.01.V07B.HDF5 already downloaded\n",
      "File 3B-MO.MS.MRG.3IMERG.20220501-S000000-E235959.05.V07B.HDF5 already downloaded\n",
      "File 3B-MO.MS.MRG.3IMERG.20220601-S000000-E235959.06.V07B.HDF5 already downloaded\n",
      "File 3B-MO.MS.MRG.3IMERG.20220701-S000000-E235959.07.V07B.HDF5 already downloaded\n",
      "File 3B-MO.MS.MRG.3IMERG.20220801-S000000-E235959.08.V07B.HDF5 already downloaded\n",
      "File 3B-MO.MS.MRG.3IMERG.20220901-S000000-E235959.09.V07B.HDF5 already downloaded\n",
      "File 3B-MO.MS.MRG.3IMERG.20221001-S000000-E235959.10.V07B.HDF5 already downloaded\n",
      "File 3B-MO.MS.MRG.3IMERG.20221101-S000000-E235959.11.V07B.HDF5 already downloaded\n",
      "File 3B-MO.MS.MRG.3IMERG.20221201-S000000-E235959.12.V07B.HDF5 already downloaded\n",
      "File 3B-MO.MS.MRG.3IMERG.20200201-S000000-E235959.02.V07B.HDF5 already downloaded\n",
      "File 3B-MO.MS.MRG.3IMERG.20220301-S000000-E235959.03.V07B.HDF5 already downloaded\n",
      "File 3B-MO.MS.MRG.3IMERG.20220201-S000000-E235959.02.V07B.HDF5 already downloaded\n",
      "File 3B-MO.MS.MRG.3IMERG.20220401-S000000-E235959.04.V07B.HDF5 already downloaded\n"
     ]
    },
    {
     "data": {
      "application/vnd.jupyter.widget-view+json": {
       "model_id": "a4b9e73eb00542b09dae52e604e0cc12",
       "version_major": 2,
       "version_minor": 0
      },
      "text/plain": [
       "PROCESSING TASKS | :   0%|          | 0/60 [00:00<?, ?it/s]"
      ]
     },
     "metadata": {},
     "output_type": "display_data"
    },
    {
     "data": {
      "application/vnd.jupyter.widget-view+json": {
       "model_id": "a8529b0c17a6450d9bc90169d1abe235",
       "version_major": 2,
       "version_minor": 0
      },
      "text/plain": [
       "COLLECTING RESULTS | :   0%|          | 0/60 [00:00<?, ?it/s]"
      ]
     },
     "metadata": {},
     "output_type": "display_data"
    }
   ],
   "source": [
    "import calendar\n",
    "import datetime\n",
    "import glob\n",
    "import earthaccess\n",
    "import numpy as np\n",
    "import h5py\n",
    "import xarray as xr\n",
    "import geopandas\n",
    "from matplotlib import pyplot\n",
    "from pyproj import CRS\n",
    "\n",
    "auth = earthaccess.login()\n",
    "\n",
    "basin = geopandas.read_file('/home/arthur.endsley/Workspace/NTSG/projects/Y2024_TOPS_Training/data/YellowstoneRiver_drainage_WSG84.shp')\n",
    "\n",
    "results = earthaccess.search_data(\n",
    "    short_name = 'GPM_3IMERGM',\n",
    "    temporal = ('2014-01-01', '2018-12-31'))\n",
    "\n",
    "earthaccess.download(results, 'data_raw/IMERG-Final')\n",
    "\n",
    "file_list = glob.glob('data_raw/IMERG-Final/*.HDF5')\n",
    "file_list.sort()\n",
    "\n",
    "datasets = []\n",
    "for filename in file_list:\n",
    "    date = datetime.datetime.strptime(filename.split('.')[4][0:8], '%Y%m%d')\n",
    "    ds0 = xr.open_dataset(filename, group = 'Grid').get(['precipitation'])\n",
    "\n",
    "    # Define the coordinate reference system (CRS) and the spatial coordinates\n",
    "    ds0 = ds0.rio.write_crs(CRS.from_epsg(4326))\n",
    "    ds0 = ds0.rio.set_spatial_dims('lon', 'lat')\n",
    "\n",
    "    ds_clip = ds0.rio.clip(basin.geometry.values, basin.crs, from_disk = True)\n",
    "    \n",
    "    # Only write the file if it doesn't exist (in case we run this again)\n",
    "    datasets.append(ds_clip)\n",
    "\n",
    "ds = xr.concat(datasets, dim = 'time')\n",
    "\n",
    "precip_series = ds.precipitation.sum(['lon','lat']).values\n",
    "days_in_month = np.array(calendar.mdays)[ds.coords['time.month'].values]\n",
    "precip_total = precip_series * days_in_month"
   ]
  }
 ],
 "metadata": {
  "kernelspec": {
   "display_name": "ScienceCore",
   "language": "python",
   "name": "sciencecore"
  },
  "language_info": {
   "codemirror_mode": {
    "name": "ipython",
    "version": 3
   },
   "file_extension": ".py",
   "mimetype": "text/x-python",
   "name": "python",
   "nbconvert_exporter": "python",
   "pygments_lexer": "ipython3",
   "version": "3.10.12"
  }
 },
 "nbformat": 4,
 "nbformat_minor": 5
}
