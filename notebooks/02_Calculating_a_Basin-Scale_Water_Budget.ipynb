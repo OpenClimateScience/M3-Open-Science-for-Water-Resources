{
 "cells": [
  {
   "cell_type": "code",
   "execution_count": null,
   "id": "7ecd1732-3f0f-4a7d-96bd-c72c248ceacb",
   "metadata": {},
   "outputs": [],
   "source": [
    "import datetime\n",
    "import earthaccess\n",
    "import numpy as np\n",
    "import h5py\n",
    "import xarray as xr\n",
    "from matplotlib import pyplot\n",
    "\n",
    "auth = earthaccess.login()"
   ]
  },
  {
   "cell_type": "markdown",
   "id": "ae08b036-a6a1-44f6-9c41-99f3be730ad3",
   "metadata": {},
   "source": [
    "$$\n",
    "P = E + R + \\Delta S\n",
    "$$\n",
    "\n",
    "![](./assets/water_budget.png)\n",
    "\n",
    "[*Image courtesy of the USGS*](https://www.usgs.gov/media/images/components-a-simple-water-budget-part-a-watershed)"
   ]
  },
  {
   "cell_type": "markdown",
   "id": "e30a1e97-25a0-4324-a2df-4e0210d15b28",
   "metadata": {},
   "source": [
    "---\n",
    "\n",
    "## Calculating basin-scale precipitation\n",
    "\n",
    "https://dx.doi.org/10.5067/GPM/IMERG/3B-MONTH/07"
   ]
  },
  {
   "cell_type": "code",
   "execution_count": null,
   "id": "dcef2ad1-93e4-4a74-a6fd-0f69ca677932",
   "metadata": {},
   "outputs": [],
   "source": [
    "import geopandas\n",
    "\n",
    "basin = geopandas.read_file('/home/arthur.endsley/Downloads/TOPS/YellowstoneRiver_drainage_WSG84.shp')\n",
    "basin"
   ]
  },
  {
   "cell_type": "code",
   "execution_count": null,
   "id": "a881ccb7-dbd2-45d4-817c-df9371d715a4",
   "metadata": {},
   "outputs": [],
   "source": [
    "basin.plot()"
   ]
  },
  {
   "cell_type": "code",
   "execution_count": null,
   "id": "e48a826b-ede4-4165-b32d-a9db68e52dd4",
   "metadata": {},
   "outputs": [],
   "source": [
    "results = earthaccess.search_data(\n",
    "    short_name = 'GPM_3IMERGM',\n",
    "    temporal = ('2018-01-01', '2022-12-31'))"
   ]
  },
  {
   "cell_type": "code",
   "execution_count": null,
   "id": "b5f1f43c-9273-495e-a97b-be7071bf713e",
   "metadata": {},
   "outputs": [],
   "source": [
    "earthaccess.download(results, 'data/IMERG-Final')"
   ]
  },
  {
   "cell_type": "code",
   "execution_count": null,
   "id": "f19ac121-2181-4755-8791-6365c95cea13",
   "metadata": {},
   "outputs": [],
   "source": [
    "with h5py.File('data_raw/IMERG-Final/3B-MO.MS.MRG.3IMERG.20180701-S000000-E235959.07.V07B.HDF5', 'r') as hdf:\n",
    "    longitude = hdf['Grid/lon'][:]\n",
    "    latitude = hdf['Grid/lat'][:]\n",
    "    print(longitude.shape)\n",
    "    print(latitude.shape)\n",
    "    print(hdf['Grid/precipitation'].shape)\n",
    "    print(hdf['Grid/precipitation'].attrs['units'])"
   ]
  },
  {
   "cell_type": "code",
   "execution_count": null,
   "id": "e1f8d254-1ef1-413a-ad48-c93f77bc55fc",
   "metadata": {},
   "outputs": [],
   "source": [
    "import glob\n",
    "file_list = glob.glob('data_raw/IMERG-Final/*.HDF5')\n",
    "file_list.sort()\n",
    "len(file_list)"
   ]
  },
  {
   "cell_type": "code",
   "execution_count": null,
   "id": "cb27c952-5a18-42ff-ae3d-a3d6afc9237c",
   "metadata": {},
   "outputs": [],
   "source": [
    "file_list[0].split('.')[4][0:8]"
   ]
  },
  {
   "cell_type": "code",
   "execution_count": null,
   "id": "f967718e-0d0b-45a1-ba84-d7b3290bf1e3",
   "metadata": {},
   "outputs": [],
   "source": [
    "for filename in file_list:\n",
    "    date = datetime.datetime.strptime(filename.split('.')[4][0:8], '%Y%m%d')\n",
    "    ds = xr.open_dataset(filename, group = 'Grid')\n",
    "    ds = ds.assign_coords({\n",
    "        'time': [date], 'lon': longitude, 'lat': latitude\n",
    "    })\n",
    "    # Rotate the image data so that latitude is the first (vertical) axis\n",
    "    ds = ds.transpose('time', 'lat', 'lon', ...)\n",
    "    ds.get(['precipitation']).to_netcdf(f'data/IMERG-Final_netcdf4/IMERG-Final_{date.strftime(\"%Y%m%d\")}.nc4')"
   ]
  },
  {
   "cell_type": "code",
   "execution_count": null,
   "id": "7bd9f0e6-104e-4950-af98-4acf3181703e",
   "metadata": {},
   "outputs": [],
   "source": [
    "ds = xr.open_mfdataset('data/IMERG-Final_netcdf4/IMERG-Final_*.nc4')\n",
    "ds"
   ]
  },
  {
   "cell_type": "code",
   "execution_count": null,
   "id": "4e26ebbd-68b0-4318-84c5-2fca9b000f2d",
   "metadata": {},
   "outputs": [],
   "source": [
    "from pyproj import CRS\n",
    "\n",
    "ds = ds.rio.set_spatial_dims('lon', 'lat')\n",
    "ds = ds.rio.write_crs(CRS.from_epsg(4326))"
   ]
  },
  {
   "cell_type": "code",
   "execution_count": null,
   "id": "cd6d0241-8a7d-46b2-ae0e-7effa3dcae36",
   "metadata": {},
   "outputs": [],
   "source": [
    "ds_clip = ds.rio.clip(basin.geometry.values, basin.crs, from_disk = True)\n",
    "ds_clip.precipitation"
   ]
  },
  {
   "cell_type": "code",
   "execution_count": null,
   "id": "e04934b5-7fe5-4b7f-b7db-85e9bffe0cd7",
   "metadata": {},
   "outputs": [],
   "source": [
    "ds_clip.precipitation[0].plot()"
   ]
  },
  {
   "cell_type": "code",
   "execution_count": null,
   "id": "832d0c22-57ef-4440-9e75-b00210cc5a14",
   "metadata": {},
   "outputs": [],
   "source": [
    "ds_clip.precipitation.sum(['lon','lat'])"
   ]
  },
  {
   "cell_type": "code",
   "execution_count": null,
   "id": "6ada57f3-8499-48b2-8027-a13f11ca2d77",
   "metadata": {},
   "outputs": [],
   "source": [
    "precip_series = ds_clip.precipitation.sum(['lon','lat']).values\n",
    "pyplot.plot(precip_series)"
   ]
  },
  {
   "cell_type": "code",
   "execution_count": null,
   "id": "ed236965-f281-492b-a99c-11269de4da89",
   "metadata": {},
   "outputs": [],
   "source": [
    "import calendar\n",
    "\n",
    "calendar.mdays"
   ]
  },
  {
   "cell_type": "code",
   "execution_count": null,
   "id": "6e736d2f-01cf-43dd-8ece-e3bd6f32f360",
   "metadata": {},
   "outputs": [],
   "source": [
    "days_in_month = np.array(calendar.mdays)[ds_clip.coords['time.month'].values]\n",
    "days_in_month"
   ]
  },
  {
   "cell_type": "code",
   "execution_count": null,
   "id": "babd158d-0da9-4415-9999-bf5fce475f5e",
   "metadata": {},
   "outputs": [],
   "source": [
    "precip_total = precip_series * days_in_month"
   ]
  },
  {
   "cell_type": "markdown",
   "id": "c612b0de-c933-4a5f-8964-b049bb5957a4",
   "metadata": {},
   "source": [
    "---\n",
    "\n",
    "## Obtaining basin-scale runoff data"
   ]
  },
  {
   "cell_type": "code",
   "execution_count": null,
   "id": "65cc6c64-b9a6-4e6b-a75c-e07fee403cb5",
   "metadata": {},
   "outputs": [],
   "source": [
    "import xarray as xr\n",
    "\n",
    "ds = xr.open_dataset('/home/arthur.endsley/Downloads/TOPS/HYSETS_2020_QC_stations.nc')\n",
    "ds"
   ]
  },
  {
   "cell_type": "code",
   "execution_count": null,
   "id": "faa7caa5-f4e4-440d-b5b1-1417026d9331",
   "metadata": {},
   "outputs": [],
   "source": [
    "ds_2022 = ds.sel(time = slice('2022-01-01', '2022-12-31'))\n",
    "ds_2022"
   ]
  },
  {
   "cell_type": "code",
   "execution_count": null,
   "id": "6601d6b3-ec64-4b5b-aa31-90957d9cbbde",
   "metadata": {},
   "outputs": [],
   "source": [
    "ds_2022['runoff_mean'].plot()"
   ]
  },
  {
   "cell_type": "code",
   "execution_count": null,
   "id": "c4c69434-7dca-4a9e-96a8-ba46cfbce9e7",
   "metadata": {},
   "outputs": [],
   "source": [
    "ds_2022['runoff_mean'].groupby('time.month').sum().plot()"
   ]
  }
 ],
 "metadata": {
  "kernelspec": {
   "display_name": "ScienceCore",
   "language": "python",
   "name": "sciencecore"
  },
  "language_info": {
   "codemirror_mode": {
    "name": "ipython",
    "version": 3
   },
   "file_extension": ".py",
   "mimetype": "text/x-python",
   "name": "python",
   "nbconvert_exporter": "python",
   "pygments_lexer": "ipython3",
   "version": "3.10.12"
  }
 },
 "nbformat": 4,
 "nbformat_minor": 5
}
